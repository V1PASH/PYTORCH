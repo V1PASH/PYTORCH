{
  "nbformat": 4,
  "nbformat_minor": 0,
  "metadata": {
    "colab": {
      "provenance": [],
      "toc_visible": true,
      "authorship_tag": "ABX9TyMhQoy8cxeN+ZKCntKhs7aC",
      "include_colab_link": true
    },
    "kernelspec": {
      "name": "python3",
      "display_name": "Python 3"
    },
    "language_info": {
      "name": "python"
    }
  },
  "cells": [
    {
      "cell_type": "markdown",
      "metadata": {
        "id": "view-in-github",
        "colab_type": "text"
      },
      "source": [
        "<a href=\"https://colab.research.google.com/github/V1PASH/PYTORCH/blob/main/00_Pytorch_fundamental.ipynb\" target=\"_parent\"><img src=\"https://colab.research.google.com/assets/colab-badge.svg\" alt=\"Open In Colab\"/></a>"
      ]
    },
    {
      "cell_type": "markdown",
      "source": [
        "\n",
        "\n",
        ">  webpage -- https://www.learnpytorch.io/00_pytorch_fundamentals/\n",
        "\n"
      ],
      "metadata": {
        "id": "jYH7Xi2tVvcr"
      }
    },
    {
      "cell_type": "code",
      "execution_count": null,
      "metadata": {
        "colab": {
          "base_uri": "https://localhost:8080/"
        },
        "id": "hxaByG_XUBCZ",
        "outputId": "b8a99cd2-e181-4f78-b4e6-63b22a571dea"
      },
      "outputs": [
        {
          "output_type": "stream",
          "name": "stdout",
          "text": [
            "helo i m learning py torch\n"
          ]
        }
      ],
      "source": [
        "print(\"helo i m learning py torch\")"
      ]
    },
    {
      "cell_type": "code",
      "source": [
        "import torch\n",
        "import pandas as pd\n",
        "import numpy as np\n",
        "import matplotlib.pyplot as plt\n",
        "print(torch.__version__)"
      ],
      "metadata": {
        "colab": {
          "base_uri": "https://localhost:8080/"
        },
        "id": "vAgUkvbHUp0x",
        "outputId": "fb24a1a1-bf08-40dd-e1d6-3ff66de70859"
      },
      "execution_count": null,
      "outputs": [
        {
          "output_type": "stream",
          "name": "stdout",
          "text": [
            "2.4.1+cu121\n"
          ]
        }
      ]
    },
    {
      "cell_type": "markdown",
      "source": [
        "# introduction to tensors\n",
        "\n",
        "## creating tensors\n",
        "\n",
        "\n",
        "tensors are created using torch.tensor"
      ],
      "metadata": {
        "id": "YmdPrXjIV11v"
      }
    },
    {
      "cell_type": "code",
      "source": [
        "#scalar\n",
        "\n",
        "scalar=torch.tensor(7)\n",
        "scalar"
      ],
      "metadata": {
        "colab": {
          "base_uri": "https://localhost:8080/"
        },
        "id": "TycFyIXpVLA5",
        "outputId": "366e9174-4a0a-4cf2-accf-fcf0f0d3c3ad"
      },
      "execution_count": null,
      "outputs": [
        {
          "output_type": "execute_result",
          "data": {
            "text/plain": [
              "tensor(7)"
            ]
          },
          "metadata": {},
          "execution_count": 3
        }
      ]
    },
    {
      "cell_type": "code",
      "source": [
        "scalar.ndim"
      ],
      "metadata": {
        "colab": {
          "base_uri": "https://localhost:8080/"
        },
        "id": "l87eCxQQWKQz",
        "outputId": "c3522234-9d3b-4aca-e613-4d2d80192879"
      },
      "execution_count": null,
      "outputs": [
        {
          "output_type": "execute_result",
          "data": {
            "text/plain": [
              "0"
            ]
          },
          "metadata": {},
          "execution_count": 4
        }
      ]
    },
    {
      "cell_type": "code",
      "source": [
        "#get tensor back as pyton int\n",
        "scalar.item()"
      ],
      "metadata": {
        "colab": {
          "base_uri": "https://localhost:8080/"
        },
        "id": "kt4b4sgtWrGv",
        "outputId": "595ef33a-ec11-4661-eb84-2a47622d545f"
      },
      "execution_count": null,
      "outputs": [
        {
          "output_type": "execute_result",
          "data": {
            "text/plain": [
              "7"
            ]
          },
          "metadata": {},
          "execution_count": 5
        }
      ]
    },
    {
      "cell_type": "code",
      "source": [
        "#vector\n",
        "\n",
        "vector=torch.tensor([7,7])\n",
        "vector"
      ],
      "metadata": {
        "colab": {
          "base_uri": "https://localhost:8080/"
        },
        "id": "pvK7TDljWz4O",
        "outputId": "fcb4e299-bb17-41c7-85eb-962d28b71d3e"
      },
      "execution_count": null,
      "outputs": [
        {
          "output_type": "execute_result",
          "data": {
            "text/plain": [
              "tensor([7, 7])"
            ]
          },
          "metadata": {},
          "execution_count": 6
        }
      ]
    },
    {
      "cell_type": "code",
      "source": [
        "vector.ndim"
      ],
      "metadata": {
        "colab": {
          "base_uri": "https://localhost:8080/"
        },
        "id": "6jQhKMgwW6dH",
        "outputId": "9087f293-24af-4578-a23f-aa4a4d0ee863"
      },
      "execution_count": null,
      "outputs": [
        {
          "output_type": "execute_result",
          "data": {
            "text/plain": [
              "1"
            ]
          },
          "metadata": {},
          "execution_count": 7
        }
      ]
    },
    {
      "cell_type": "code",
      "source": [
        "vector.shape"
      ],
      "metadata": {
        "colab": {
          "base_uri": "https://localhost:8080/"
        },
        "id": "j2_oJs0WXRGH",
        "outputId": "7c11c387-92a3-4df8-f59d-5054a2953e85"
      },
      "execution_count": null,
      "outputs": [
        {
          "output_type": "execute_result",
          "data": {
            "text/plain": [
              "torch.Size([2])"
            ]
          },
          "metadata": {},
          "execution_count": 8
        }
      ]
    },
    {
      "cell_type": "code",
      "source": [
        "#MATRIX\n",
        "\n",
        "MATRIX = torch.tensor([[7, 8],\n",
        "                       [9, 10]])\n",
        "MATRIX"
      ],
      "metadata": {
        "colab": {
          "base_uri": "https://localhost:8080/"
        },
        "id": "TlzLB4JtXTG3",
        "outputId": "5ddd787f-da5a-4a66-d14b-087173be5bce"
      },
      "execution_count": null,
      "outputs": [
        {
          "output_type": "execute_result",
          "data": {
            "text/plain": [
              "tensor([[ 7,  8],\n",
              "        [ 9, 10]])"
            ]
          },
          "metadata": {},
          "execution_count": 9
        }
      ]
    },
    {
      "cell_type": "code",
      "source": [
        "MATRIX.ndim"
      ],
      "metadata": {
        "colab": {
          "base_uri": "https://localhost:8080/"
        },
        "id": "3sJWTrTaXgaK",
        "outputId": "96d26444-eabc-49eb-a83d-6dc2c6d05a5a"
      },
      "execution_count": null,
      "outputs": [
        {
          "output_type": "execute_result",
          "data": {
            "text/plain": [
              "2"
            ]
          },
          "metadata": {},
          "execution_count": 10
        }
      ]
    },
    {
      "cell_type": "code",
      "source": [
        "MATRIX[1][1]"
      ],
      "metadata": {
        "colab": {
          "base_uri": "https://localhost:8080/"
        },
        "id": "KeiwTnaTXlmQ",
        "outputId": "3519fb3b-0178-437e-e101-ae6595363a89"
      },
      "execution_count": null,
      "outputs": [
        {
          "output_type": "execute_result",
          "data": {
            "text/plain": [
              "tensor(10)"
            ]
          },
          "metadata": {},
          "execution_count": 11
        }
      ]
    },
    {
      "cell_type": "code",
      "source": [
        "MATRIX.shape"
      ],
      "metadata": {
        "colab": {
          "base_uri": "https://localhost:8080/"
        },
        "id": "GS76BTclXtCK",
        "outputId": "05c64d11-cc05-4f51-822e-ffa4de50fef1"
      },
      "execution_count": null,
      "outputs": [
        {
          "output_type": "execute_result",
          "data": {
            "text/plain": [
              "torch.Size([2, 2])"
            ]
          },
          "metadata": {},
          "execution_count": 12
        }
      ]
    },
    {
      "cell_type": "code",
      "source": [
        "#TENSOR\n",
        "TENSOR= torch.tensor([[[[1,2,3],\n",
        "                       [3,6,9],\n",
        "                       [2,4,5]],\n",
        "                      [[5,7,3],\n",
        "                       [3,8,9],\n",
        "                       [9,4,5]]]])\n",
        "\n",
        "TENSOR"
      ],
      "metadata": {
        "colab": {
          "base_uri": "https://localhost:8080/"
        },
        "id": "d4-q-t5OX1-_",
        "outputId": "1cdf71fa-5c86-44d3-c270-876bb07bdd1e"
      },
      "execution_count": null,
      "outputs": [
        {
          "output_type": "execute_result",
          "data": {
            "text/plain": [
              "tensor([[[[1, 2, 3],\n",
              "          [3, 6, 9],\n",
              "          [2, 4, 5]],\n",
              "\n",
              "         [[5, 7, 3],\n",
              "          [3, 8, 9],\n",
              "          [9, 4, 5]]]])"
            ]
          },
          "metadata": {},
          "execution_count": 13
        }
      ]
    },
    {
      "cell_type": "code",
      "source": [
        "TENSOR.ndim"
      ],
      "metadata": {
        "colab": {
          "base_uri": "https://localhost:8080/"
        },
        "id": "cYQTuqQDYFxD",
        "outputId": "6635741a-e0d8-4610-be24-bd2d37792fec"
      },
      "execution_count": null,
      "outputs": [
        {
          "output_type": "execute_result",
          "data": {
            "text/plain": [
              "4"
            ]
          },
          "metadata": {},
          "execution_count": 14
        }
      ]
    },
    {
      "cell_type": "code",
      "source": [
        "TENSOR.shape"
      ],
      "metadata": {
        "colab": {
          "base_uri": "https://localhost:8080/"
        },
        "id": "OKBogJnYYS8i",
        "outputId": "9c36e0d7-1342-4b33-d9a6-d847187b69b0"
      },
      "execution_count": null,
      "outputs": [
        {
          "output_type": "execute_result",
          "data": {
            "text/plain": [
              "torch.Size([1, 2, 3, 3])"
            ]
          },
          "metadata": {},
          "execution_count": 15
        }
      ]
    },
    {
      "cell_type": "code",
      "source": [
        "TENSOR[0][1][1][1]"
      ],
      "metadata": {
        "colab": {
          "base_uri": "https://localhost:8080/"
        },
        "id": "muOEdg0zYWCH",
        "outputId": "a304aa76-b9ef-4a15-b087-79809c5e361a"
      },
      "execution_count": null,
      "outputs": [
        {
          "output_type": "execute_result",
          "data": {
            "text/plain": [
              "tensor(8)"
            ]
          },
          "metadata": {},
          "execution_count": 16
        }
      ]
    },
    {
      "cell_type": "markdown",
      "source": [
        "### Random TENSORS\n",
        "\n",
        "why random tensors ?\n",
        "\n",
        "Random tensors are important because of the way many neural network learn is that they start with tensors full of random numbers and then adjust those numbers to better represent the data\n",
        "\n",
        "`start with random number-> look at data -> update random number -> look at data`\n",
        "\n",
        "\n"
      ],
      "metadata": {
        "id": "lfkq0oCRaCaa"
      }
    },
    {
      "cell_type": "code",
      "source": [
        "### random TENSORS\n",
        "\n",
        "# size (3,4)\n",
        "\n",
        "random_tensro=torch.rand(3,4)\n",
        "random_tensro\n"
      ],
      "metadata": {
        "colab": {
          "base_uri": "https://localhost:8080/"
        },
        "id": "eKJf7s9PYd2b",
        "outputId": "046ffef7-68d9-4dc2-eb62-fb8e76d7aa7a"
      },
      "execution_count": null,
      "outputs": [
        {
          "output_type": "execute_result",
          "data": {
            "text/plain": [
              "tensor([[0.6875, 0.6199, 0.1245, 0.2617],\n",
              "        [0.6451, 0.8857, 0.2779, 0.1783],\n",
              "        [0.8642, 0.3718, 0.3428, 0.3886]])"
            ]
          },
          "metadata": {},
          "execution_count": 17
        }
      ]
    },
    {
      "cell_type": "code",
      "source": [
        "random_tensro.ndim"
      ],
      "metadata": {
        "colab": {
          "base_uri": "https://localhost:8080/"
        },
        "id": "ZTgq6_WKa4K4",
        "outputId": "fa9e41bc-6d7d-4e1f-ce4b-7a32f5e1fcaa"
      },
      "execution_count": null,
      "outputs": [
        {
          "output_type": "execute_result",
          "data": {
            "text/plain": [
              "2"
            ]
          },
          "metadata": {},
          "execution_count": 18
        }
      ]
    },
    {
      "cell_type": "code",
      "source": [
        "#random tensor with similar shape of an image\n",
        "\n",
        "random_image_size_tensor=torch.rand(size=(3,224,224)) #(height, width , color channel) // can switch too (color channel,height, width )\n",
        "\n",
        "random_image_size_tensor.shape,random_image_size_tensor.ndim"
      ],
      "metadata": {
        "colab": {
          "base_uri": "https://localhost:8080/"
        },
        "id": "abeSW4-MbcSf",
        "outputId": "84963944-891d-4970-b4c5-40dc45b90c77"
      },
      "execution_count": null,
      "outputs": [
        {
          "output_type": "execute_result",
          "data": {
            "text/plain": [
              "(torch.Size([3, 224, 224]), 3)"
            ]
          },
          "metadata": {},
          "execution_count": 19
        }
      ]
    },
    {
      "cell_type": "code",
      "source": [
        "random_image_size_tensor"
      ],
      "metadata": {
        "colab": {
          "base_uri": "https://localhost:8080/"
        },
        "id": "5v-IyNsVb_Dg",
        "outputId": "42391e12-27f6-4e96-b1af-1d874f6513b4"
      },
      "execution_count": null,
      "outputs": [
        {
          "output_type": "execute_result",
          "data": {
            "text/plain": [
              "tensor([[[0.4332, 0.4090, 0.1779,  ..., 0.6158, 0.3078, 0.4149],\n",
              "         [0.9361, 0.0558, 0.5663,  ..., 0.1638, 0.2554, 0.2213],\n",
              "         [0.7221, 0.7858, 0.1066,  ..., 0.2763, 0.6928, 0.2657],\n",
              "         ...,\n",
              "         [0.8226, 0.4776, 0.4493,  ..., 0.0129, 0.3654, 0.7525],\n",
              "         [0.4213, 0.1665, 0.1115,  ..., 0.1797, 0.4960, 0.7414],\n",
              "         [0.7583, 0.7781, 0.3738,  ..., 0.0160, 0.5955, 0.7677]],\n",
              "\n",
              "        [[0.3111, 0.2310, 0.7203,  ..., 0.6167, 0.5832, 0.4946],\n",
              "         [0.4468, 0.2415, 0.7364,  ..., 0.1420, 0.6864, 0.7328],\n",
              "         [0.0025, 0.6638, 0.8101,  ..., 0.5961, 0.1505, 0.7515],\n",
              "         ...,\n",
              "         [0.1441, 0.8139, 0.6829,  ..., 0.2583, 0.6819, 0.9926],\n",
              "         [0.0975, 0.9859, 0.3242,  ..., 0.9276, 0.2930, 0.4708],\n",
              "         [0.7382, 0.5267, 0.0736,  ..., 0.1094, 0.1910, 0.3093]],\n",
              "\n",
              "        [[0.7327, 0.8492, 0.3503,  ..., 0.9112, 0.6851, 0.7264],\n",
              "         [0.1379, 0.3438, 0.5367,  ..., 0.6774, 0.9352, 0.1805],\n",
              "         [0.1885, 0.3563, 0.9255,  ..., 0.3923, 0.1270, 0.6743],\n",
              "         ...,\n",
              "         [0.2004, 0.4738, 0.6510,  ..., 0.5702, 0.4388, 0.7584],\n",
              "         [0.2915, 0.1894, 0.2594,  ..., 0.6974, 0.3828, 0.8356],\n",
              "         [0.9828, 0.5473, 0.5294,  ..., 0.5277, 0.3852, 0.4676]]])"
            ]
          },
          "metadata": {},
          "execution_count": 20
        }
      ]
    },
    {
      "cell_type": "markdown",
      "source": [
        "##zeros and one tensor"
      ],
      "metadata": {
        "id": "ExOuwPMHeUSU"
      }
    },
    {
      "cell_type": "code",
      "source": [
        "## zero and ones\n",
        "zeros= torch.zeros(size=(3,4))\n",
        "zeros"
      ],
      "metadata": {
        "colab": {
          "base_uri": "https://localhost:8080/"
        },
        "id": "XvNpiVvKcThV",
        "outputId": "e2e7fd73-2d91-472f-b029-1deb319aa399"
      },
      "execution_count": null,
      "outputs": [
        {
          "output_type": "execute_result",
          "data": {
            "text/plain": [
              "tensor([[0., 0., 0., 0.],\n",
              "        [0., 0., 0., 0.],\n",
              "        [0., 0., 0., 0.]])"
            ]
          },
          "metadata": {},
          "execution_count": 21
        }
      ]
    },
    {
      "cell_type": "code",
      "source": [
        "zeros*random_tensro"
      ],
      "metadata": {
        "colab": {
          "base_uri": "https://localhost:8080/"
        },
        "id": "TAzO5HmeecOy",
        "outputId": "3f39e02f-ec84-4e85-ba43-a734019284bb"
      },
      "execution_count": null,
      "outputs": [
        {
          "output_type": "execute_result",
          "data": {
            "text/plain": [
              "tensor([[0., 0., 0., 0.],\n",
              "        [0., 0., 0., 0.],\n",
              "        [0., 0., 0., 0.]])"
            ]
          },
          "metadata": {},
          "execution_count": 22
        }
      ]
    },
    {
      "cell_type": "code",
      "source": [
        "ones= torch.ones(3,4)\n",
        "ones"
      ],
      "metadata": {
        "colab": {
          "base_uri": "https://localhost:8080/"
        },
        "id": "qCSDZuCcefgt",
        "outputId": "dfad50c6-579f-4cb7-82c9-bb822805a664"
      },
      "execution_count": null,
      "outputs": [
        {
          "output_type": "execute_result",
          "data": {
            "text/plain": [
              "tensor([[1., 1., 1., 1.],\n",
              "        [1., 1., 1., 1.],\n",
              "        [1., 1., 1., 1.]])"
            ]
          },
          "metadata": {},
          "execution_count": 23
        }
      ]
    },
    {
      "cell_type": "code",
      "source": [
        "ones.dtype"
      ],
      "metadata": {
        "colab": {
          "base_uri": "https://localhost:8080/"
        },
        "id": "wMbsc4s_fK2I",
        "outputId": "6cb4801c-4113-4918-f15c-a0914d2c52b3"
      },
      "execution_count": null,
      "outputs": [
        {
          "output_type": "execute_result",
          "data": {
            "text/plain": [
              "torch.float32"
            ]
          },
          "metadata": {},
          "execution_count": 24
        }
      ]
    },
    {
      "cell_type": "code",
      "source": [
        "zero_to_ten = torch.arange(0,10,2)\n",
        "zero_to_ten"
      ],
      "metadata": {
        "id": "jN0fBvZtgE_G",
        "colab": {
          "base_uri": "https://localhost:8080/"
        },
        "outputId": "43f2fc23-f1d8-40de-e10f-659f0c73cf4a"
      },
      "execution_count": null,
      "outputs": [
        {
          "output_type": "execute_result",
          "data": {
            "text/plain": [
              "tensor([0, 2, 4, 6, 8])"
            ]
          },
          "metadata": {},
          "execution_count": 25
        }
      ]
    },
    {
      "cell_type": "markdown",
      "source": [
        "## TENSOR Data types\n",
        "\n",
        "**Note:** tensor datatypes is one of the 3 big error you will run into with pytorch & learning:\n",
        "\n",
        "1. Tensors not right dtype\n",
        "2. Tensors not right shape\n",
        "3. Tensor not on the right device"
      ],
      "metadata": {
        "id": "MR5WpUj_TKmj"
      }
    },
    {
      "cell_type": "code",
      "source": [
        "float_32_tensor = torch.tensor([3.0,7.0,2.5],\n",
        "                               dtype=torch.float32,# dtype of tensor\n",
        "                               device=None, # devie tensor is on\n",
        "                               requires_grad=False)#track gradient or not\n",
        "float_32_tensor\n",
        "float_32_tensor.device"
      ],
      "metadata": {
        "colab": {
          "base_uri": "https://localhost:8080/"
        },
        "id": "mEOwdtGXRZoQ",
        "outputId": "4bfec2fa-2fc3-4749-ca47-2275d62015fb"
      },
      "execution_count": null,
      "outputs": [
        {
          "output_type": "execute_result",
          "data": {
            "text/plain": [
              "device(type='cpu')"
            ]
          },
          "metadata": {},
          "execution_count": 26
        }
      ]
    },
    {
      "cell_type": "code",
      "source": [
        "float_32_tensor.device"
      ],
      "metadata": {
        "colab": {
          "base_uri": "https://localhost:8080/"
        },
        "id": "D2Y7CuYAR-Pb",
        "outputId": "d96598ec-8095-4bdd-b384-c66b4c79abd8"
      },
      "execution_count": null,
      "outputs": [
        {
          "output_type": "execute_result",
          "data": {
            "text/plain": [
              "device(type='cpu')"
            ]
          },
          "metadata": {},
          "execution_count": 27
        }
      ]
    },
    {
      "cell_type": "code",
      "source": [
        "float_32_tensor.dtype"
      ],
      "metadata": {
        "colab": {
          "base_uri": "https://localhost:8080/"
        },
        "id": "QIUpnCvVSfY5",
        "outputId": "b01ada37-c0f8-44d1-b81b-f64399e74847"
      },
      "execution_count": null,
      "outputs": [
        {
          "output_type": "execute_result",
          "data": {
            "text/plain": [
              "torch.float32"
            ]
          },
          "metadata": {},
          "execution_count": 28
        }
      ]
    },
    {
      "cell_type": "code",
      "source": [
        "float_32_tensor.shape"
      ],
      "metadata": {
        "colab": {
          "base_uri": "https://localhost:8080/"
        },
        "id": "WbZ0LoT_SklP",
        "outputId": "464fd1b7-d488-46d8-8049-59641596dc10"
      },
      "execution_count": null,
      "outputs": [
        {
          "output_type": "execute_result",
          "data": {
            "text/plain": [
              "torch.Size([3])"
            ]
          },
          "metadata": {},
          "execution_count": 29
        }
      ]
    },
    {
      "cell_type": "code",
      "source": [
        "float_16_tensor=float_32_tensor.type(torch.float16)\n",
        "float_16_tensor"
      ],
      "metadata": {
        "colab": {
          "base_uri": "https://localhost:8080/"
        },
        "id": "MiFulnwOXnIV",
        "outputId": "6ededfb3-c417-433b-b06e-dbccf54a547d"
      },
      "execution_count": null,
      "outputs": [
        {
          "output_type": "execute_result",
          "data": {
            "text/plain": [
              "tensor([3.0000, 7.0000, 2.5000], dtype=torch.float16)"
            ]
          },
          "metadata": {},
          "execution_count": 30
        }
      ]
    },
    {
      "cell_type": "code",
      "source": [
        "int_32_tensor=torch.tensor([3.0,7.0,2.5],\n",
        "                          dtype=torch.int32,\n",
        "                          requires_grad=False)\n",
        "int_32_tensor.dtype\n",
        "int_32_tensor"
      ],
      "metadata": {
        "colab": {
          "base_uri": "https://localhost:8080/"
        },
        "id": "-JuUvbrZTUw-",
        "outputId": "14a9f5bb-e33b-4415-8d7d-2099e91c4d18"
      },
      "execution_count": null,
      "outputs": [
        {
          "output_type": "execute_result",
          "data": {
            "text/plain": [
              "tensor([3, 7, 2], dtype=torch.int32)"
            ]
          },
          "metadata": {},
          "execution_count": 31
        }
      ]
    },
    {
      "cell_type": "code",
      "source": [
        "random_tensor=torch.rand(1,4,3)\n",
        "random_tensor"
      ],
      "metadata": {
        "colab": {
          "base_uri": "https://localhost:8080/"
        },
        "id": "FrzxHEYnU2Q4",
        "outputId": "eb10a602-1e41-432f-f09f-d0ca9ea82411"
      },
      "execution_count": null,
      "outputs": [
        {
          "output_type": "execute_result",
          "data": {
            "text/plain": [
              "tensor([[[0.2938, 0.4059, 0.3062],\n",
              "         [0.9124, 0.7368, 0.3795],\n",
              "         [0.9986, 0.0929, 0.9111],\n",
              "         [0.7859, 0.7236, 0.4138]]])"
            ]
          },
          "metadata": {},
          "execution_count": 32
        }
      ]
    },
    {
      "cell_type": "code",
      "source": [
        "random_tensor.shape"
      ],
      "metadata": {
        "colab": {
          "base_uri": "https://localhost:8080/"
        },
        "id": "iELMgMRSVGwI",
        "outputId": "c9cd8140-e378-4a72-c10f-89f8bca83461"
      },
      "execution_count": null,
      "outputs": [
        {
          "output_type": "execute_result",
          "data": {
            "text/plain": [
              "torch.Size([1, 4, 3])"
            ]
          },
          "metadata": {},
          "execution_count": 33
        }
      ]
    },
    {
      "cell_type": "code",
      "source": [
        "int_64_tensor=int_32_tensor.type(torch.int64)\n",
        "int_64_tensor"
      ],
      "metadata": {
        "colab": {
          "base_uri": "https://localhost:8080/"
        },
        "id": "9bGPxGpuY_rg",
        "outputId": "fa44c5b8-60e2-47da-82c0-723757823124"
      },
      "execution_count": null,
      "outputs": [
        {
          "output_type": "execute_result",
          "data": {
            "text/plain": [
              "tensor([3, 7, 2])"
            ]
          },
          "metadata": {},
          "execution_count": 34
        }
      ]
    },
    {
      "cell_type": "markdown",
      "source": [
        "## operations on tensor\n"
      ],
      "metadata": {
        "id": "zXW5oxqyS1yL"
      }
    },
    {
      "cell_type": "code",
      "source": [
        "float_32_tensor*float_16_tensor"
      ],
      "metadata": {
        "colab": {
          "base_uri": "https://localhost:8080/"
        },
        "id": "TUeCXua3SscU",
        "outputId": "844b02be-ca1a-47d8-f3b5-7202610aef6a"
      },
      "execution_count": null,
      "outputs": [
        {
          "output_type": "execute_result",
          "data": {
            "text/plain": [
              "tensor([ 9.0000, 49.0000,  6.2500])"
            ]
          },
          "metadata": {},
          "execution_count": 35
        }
      ]
    },
    {
      "cell_type": "code",
      "source": [
        "int_32_tensor*int_64_tensor"
      ],
      "metadata": {
        "colab": {
          "base_uri": "https://localhost:8080/"
        },
        "id": "G7TXzaEqYPbL",
        "outputId": "27446302-8e0d-4b85-b53a-7bc3a9bb183f"
      },
      "execution_count": null,
      "outputs": [
        {
          "output_type": "execute_result",
          "data": {
            "text/plain": [
              "tensor([ 9, 49,  4])"
            ]
          },
          "metadata": {},
          "execution_count": 36
        }
      ]
    },
    {
      "cell_type": "code",
      "source": [
        "int_32_tensor*float_32_tensor"
      ],
      "metadata": {
        "colab": {
          "base_uri": "https://localhost:8080/"
        },
        "id": "ny7Q9zTBZGnl",
        "outputId": "e5963f3b-16d6-4c7f-f1ad-92b4cc5acb41"
      },
      "execution_count": null,
      "outputs": [
        {
          "output_type": "execute_result",
          "data": {
            "text/plain": [
              "tensor([ 9., 49.,  5.])"
            ]
          },
          "metadata": {},
          "execution_count": 37
        }
      ]
    },
    {
      "cell_type": "code",
      "source": [
        "long_32_tensor=int_32_tensor.type(torch.long)\n",
        "long_32_tensor"
      ],
      "metadata": {
        "colab": {
          "base_uri": "https://localhost:8080/"
        },
        "id": "vAztE7bvaMsu",
        "outputId": "05f3cda9-0e65-4a60-b257-179934f4f067"
      },
      "execution_count": null,
      "outputs": [
        {
          "output_type": "execute_result",
          "data": {
            "text/plain": [
              "tensor([3, 7, 2])"
            ]
          },
          "metadata": {},
          "execution_count": 38
        }
      ]
    },
    {
      "cell_type": "code",
      "source": [
        "long_32_tensor*float_32_tensor"
      ],
      "metadata": {
        "colab": {
          "base_uri": "https://localhost:8080/"
        },
        "id": "tmqW1nVbaoti",
        "outputId": "e3bea114-1cd2-40e1-e88e-3c2d1b601520"
      },
      "execution_count": null,
      "outputs": [
        {
          "output_type": "execute_result",
          "data": {
            "text/plain": [
              "tensor([ 9., 49.,  5.])"
            ]
          },
          "metadata": {},
          "execution_count": 39
        }
      ]
    },
    {
      "cell_type": "markdown",
      "source": [
        "### Getting info from tensors\n",
        "\n",
        "1. Tensors not right dtype -- to get dtype form tensor use `tensor.type`\n",
        "2. Tensor not right shape -- to get shape from tensor use `tensor.shape`\n",
        "3. Tensor not on the right device -- to get device from tensor use `tensor.device`"
      ],
      "metadata": {
        "id": "b3f43GLGarxU"
      }
    },
    {
      "cell_type": "code",
      "source": [
        "#create a tensor\n",
        "some_tensor=torch.rand(3,4)\n",
        "some_tensor"
      ],
      "metadata": {
        "colab": {
          "base_uri": "https://localhost:8080/"
        },
        "id": "_RslbZqBpaOO",
        "outputId": "767af11b-63e4-4517-ea7d-cd8e48b56a98"
      },
      "execution_count": null,
      "outputs": [
        {
          "output_type": "execute_result",
          "data": {
            "text/plain": [
              "tensor([[0.5794, 0.3364, 0.2172, 0.6781],\n",
              "        [0.2552, 0.7542, 0.9899, 0.7631],\n",
              "        [0.2353, 0.8920, 0.3291, 0.7603]])"
            ]
          },
          "metadata": {},
          "execution_count": 40
        }
      ]
    },
    {
      "cell_type": "code",
      "source": [
        "# find out details about some tensor(tensor attributes)\n",
        "\n",
        "print(some_tensor)\n",
        "\n",
        "print(f\"Datatype of tensor: {some_tensor.dtype}\")\n",
        "\n",
        "print(f\"Shape of tensor: {some_tensor.shape}\")\n",
        "\n",
        "print(f\"Device tensor is on: {some_tensor.device}\")"
      ],
      "metadata": {
        "colab": {
          "base_uri": "https://localhost:8080/"
        },
        "id": "V7_vc-xKpwpG",
        "outputId": "f47565c5-6606-4a60-f1e7-71242fd83ddb"
      },
      "execution_count": null,
      "outputs": [
        {
          "output_type": "stream",
          "name": "stdout",
          "text": [
            "tensor([[0.5794, 0.3364, 0.2172, 0.6781],\n",
            "        [0.2552, 0.7542, 0.9899, 0.7631],\n",
            "        [0.2353, 0.8920, 0.3291, 0.7603]])\n",
            "Datatype of tensor: torch.float32\n",
            "Shape of tensor: torch.Size([3, 4])\n",
            "Device tensor is on: cpu\n"
          ]
        }
      ]
    },
    {
      "cell_type": "markdown",
      "source": [
        "### manipulating tensors\n",
        "\n",
        "Tensor operations\n",
        "* addition\n",
        "* subtraction\n",
        "* multiplication\n",
        "* division\n",
        "* matrix multiplication"
      ],
      "metadata": {
        "id": "btGsjMtReyYl"
      }
    },
    {
      "cell_type": "code",
      "source": [
        "# create a tensor\n",
        "\n",
        "## Addition\n",
        "\n",
        "tensor = torch.tensor([1,2,3])\n",
        "tensor+10"
      ],
      "metadata": {
        "colab": {
          "base_uri": "https://localhost:8080/"
        },
        "id": "EG_J0wpdfAUg",
        "outputId": "41a5c720-9290-48b4-ee95-fe8745cb704d"
      },
      "execution_count": null,
      "outputs": [
        {
          "output_type": "execute_result",
          "data": {
            "text/plain": [
              "tensor([11, 12, 13])"
            ]
          },
          "metadata": {},
          "execution_count": 42
        }
      ]
    },
    {
      "cell_type": "code",
      "source": [
        "#multiply\n",
        "\n",
        "tensor*10"
      ],
      "metadata": {
        "colab": {
          "base_uri": "https://localhost:8080/"
        },
        "id": "uAr8gB-sfP8d",
        "outputId": "c74f1068-d4ef-4f22-db0c-2d860f789f46"
      },
      "execution_count": null,
      "outputs": [
        {
          "output_type": "execute_result",
          "data": {
            "text/plain": [
              "tensor([10, 20, 30])"
            ]
          },
          "metadata": {},
          "execution_count": 43
        }
      ]
    },
    {
      "cell_type": "code",
      "source": [
        "# subtract\n",
        "tensor -15"
      ],
      "metadata": {
        "colab": {
          "base_uri": "https://localhost:8080/"
        },
        "id": "qDS2Sk1nfXAh",
        "outputId": "d94cf526-8234-46f5-eadf-7cf8999c0d53"
      },
      "execution_count": null,
      "outputs": [
        {
          "output_type": "execute_result",
          "data": {
            "text/plain": [
              "tensor([-14, -13, -12])"
            ]
          },
          "metadata": {},
          "execution_count": 44
        }
      ]
    },
    {
      "cell_type": "code",
      "source": [
        "# try out pytorch inbuilt functiom\n",
        "\n",
        "torch.mul(tensor,10)"
      ],
      "metadata": {
        "colab": {
          "base_uri": "https://localhost:8080/"
        },
        "id": "FyUpgTjXfj7T",
        "outputId": "b0eed9f3-116b-454f-e6c7-a6a8629cb20e"
      },
      "execution_count": null,
      "outputs": [
        {
          "output_type": "execute_result",
          "data": {
            "text/plain": [
              "tensor([10, 20, 30])"
            ]
          },
          "metadata": {},
          "execution_count": 45
        }
      ]
    },
    {
      "cell_type": "code",
      "source": [
        "torch.add(tensor,10)"
      ],
      "metadata": {
        "colab": {
          "base_uri": "https://localhost:8080/"
        },
        "id": "-qKKaCCsfyUT",
        "outputId": "369091fc-49d4-477b-f719-99c917a09682"
      },
      "execution_count": null,
      "outputs": [
        {
          "output_type": "execute_result",
          "data": {
            "text/plain": [
              "tensor([11, 12, 13])"
            ]
          },
          "metadata": {},
          "execution_count": 46
        }
      ]
    },
    {
      "cell_type": "markdown",
      "source": [
        "### Matrix Multiplication\n",
        "Two main ways of performing matrix multiplication\n",
        "\n",
        "1. Element wise\n",
        "2. Matrix wise\n",
        "\n",
        "### @ is used for multiplication in matrix\n",
        "\n",
        "Ex:- mat1 @ mat2\n",
        "\n",
        "### We can also use `Torch.matmul(elemenst,elements)`\n",
        "\n",
        "\n"
      ],
      "metadata": {
        "id": "pk3Wo2aMI1p2"
      }
    },
    {
      "cell_type": "code",
      "source": [
        "## element wise multipliction\n",
        "print(tensor)\n",
        "tensor*tensor"
      ],
      "metadata": {
        "colab": {
          "base_uri": "https://localhost:8080/"
        },
        "id": "WSMcXD7igaJz",
        "outputId": "48c0beda-a2bf-4ffd-a6d1-2a3d2de25057"
      },
      "execution_count": null,
      "outputs": [
        {
          "output_type": "stream",
          "name": "stdout",
          "text": [
            "tensor([1, 2, 3])\n"
          ]
        },
        {
          "output_type": "execute_result",
          "data": {
            "text/plain": [
              "tensor([1, 4, 9])"
            ]
          },
          "metadata": {},
          "execution_count": 47
        }
      ]
    },
    {
      "cell_type": "code",
      "source": [
        "%%time\n",
        "torch.matmul(tensor,tensor)\n",
        "\n",
        "#tensor([1, 2, 3])\n",
        "\n",
        "#1*1 + 2*2+ 3*3\n",
        "\n",
        "## µs = microseconds"
      ],
      "metadata": {
        "colab": {
          "base_uri": "https://localhost:8080/"
        },
        "id": "s546TCzahrht",
        "outputId": "94a8e27a-1548-4d38-ee55-940ba730bfba"
      },
      "execution_count": null,
      "outputs": [
        {
          "output_type": "stream",
          "name": "stdout",
          "text": [
            "CPU times: user 767 µs, sys: 1.13 ms, total: 1.9 ms\n",
            "Wall time: 9.22 ms\n"
          ]
        },
        {
          "output_type": "execute_result",
          "data": {
            "text/plain": [
              "tensor(14)"
            ]
          },
          "metadata": {},
          "execution_count": 48
        }
      ]
    },
    {
      "cell_type": "code",
      "source": [
        "## matrix multiplication by hand\n",
        "\n",
        "%%time\n",
        "\n",
        "value=0\n",
        "for i in range(len(tensor)):\n",
        "  value+=tensor[i]*tensor[i]\n",
        "\n",
        "print(value)"
      ],
      "metadata": {
        "colab": {
          "base_uri": "https://localhost:8080/"
        },
        "id": "SxkYrJZdit_M",
        "outputId": "6938104b-a58c-4901-84d9-02f6429ee292"
      },
      "execution_count": null,
      "outputs": [
        {
          "output_type": "stream",
          "name": "stdout",
          "text": [
            "tensor(14)\n",
            "CPU times: user 2.96 ms, sys: 0 ns, total: 2.96 ms\n",
            "Wall time: 4.43 ms\n"
          ]
        }
      ]
    },
    {
      "cell_type": "markdown",
      "source": [
        "#### there are two main rules performing matrix multiplication\n",
        "1. the inner dimension must match\n",
        "\n",
        "* `(3,2) @ (3,2)` Wont work\n",
        "* `(3,2) @ (2,3)` will work\n",
        "* `(2,3) @ (3,2)` will work\n",
        "\n",
        "2.  The result matrix has shape of the **outer Dimensions**\n",
        "* `(2 , 3) @ (3 , 2)` -> `(2 , 2)`\n"
      ],
      "metadata": {
        "id": "pM401z7ekxCQ"
      }
    },
    {
      "cell_type": "code",
      "source": [
        "# Matrix Wise multiplication\n",
        "\n",
        "mat1=torch.rand(4,2)\n",
        "mat2=torch.rand(2,3)\n",
        "\n",
        "mat1 @ mat2"
      ],
      "metadata": {
        "id": "PTyQ90j8p67W",
        "colab": {
          "base_uri": "https://localhost:8080/"
        },
        "outputId": "788d8ce2-6411-4e1e-aea8-8e8518f54bb8"
      },
      "execution_count": null,
      "outputs": [
        {
          "output_type": "execute_result",
          "data": {
            "text/plain": [
              "tensor([[0.5156, 0.5357, 0.7871],\n",
              "        [0.2203, 0.2213, 0.4332],\n",
              "        [0.5313, 0.5552, 0.7700],\n",
              "        [0.3450, 0.3724, 0.3475]])"
            ]
          },
          "metadata": {},
          "execution_count": 50
        }
      ]
    },
    {
      "cell_type": "code",
      "source": [
        "torch.matmul(mat1,mat2)"
      ],
      "metadata": {
        "colab": {
          "base_uri": "https://localhost:8080/"
        },
        "id": "8aLgL5e3JOKb",
        "outputId": "51351c71-f93d-454f-d236-ece2475fcf49"
      },
      "execution_count": null,
      "outputs": [
        {
          "output_type": "execute_result",
          "data": {
            "text/plain": [
              "tensor([[0.5156, 0.5357, 0.7871],\n",
              "        [0.2203, 0.2213, 0.4332],\n",
              "        [0.5313, 0.5552, 0.7700],\n",
              "        [0.3450, 0.3724, 0.3475]])"
            ]
          },
          "metadata": {},
          "execution_count": 51
        }
      ]
    },
    {
      "cell_type": "code",
      "source": [
        "## randint for tensor with int values at random\n",
        "%%time\n",
        "mat1=torch.randint(10,(3,8))\n",
        "mat2=torch.randint(10,(8,3))\n",
        "\n",
        "mat1 @ mat2"
      ],
      "metadata": {
        "colab": {
          "base_uri": "https://localhost:8080/"
        },
        "id": "PZAoWWtihar1",
        "outputId": "27200e1b-4fad-49a3-d0e8-7105763acbee"
      },
      "execution_count": null,
      "outputs": [
        {
          "output_type": "stream",
          "name": "stdout",
          "text": [
            "CPU times: user 281 µs, sys: 0 ns, total: 281 µs\n",
            "Wall time: 286 µs\n"
          ]
        },
        {
          "output_type": "execute_result",
          "data": {
            "text/plain": [
              "tensor([[247, 198, 193],\n",
              "        [182, 140, 118],\n",
              "        [194, 155, 128]])"
            ]
          },
          "metadata": {},
          "execution_count": 52
        }
      ]
    },
    {
      "cell_type": "code",
      "source": [
        "%%time\n",
        "torch.matmul(mat1,mat2)"
      ],
      "metadata": {
        "colab": {
          "base_uri": "https://localhost:8080/"
        },
        "id": "RY-LuTiSiRBu",
        "outputId": "d2810844-0857-4f55-b37b-0d77f0a70ade"
      },
      "execution_count": null,
      "outputs": [
        {
          "output_type": "stream",
          "name": "stdout",
          "text": [
            "CPU times: user 67 µs, sys: 11 µs, total: 78 µs\n",
            "Wall time: 82.3 µs\n"
          ]
        },
        {
          "output_type": "execute_result",
          "data": {
            "text/plain": [
              "tensor([[247, 198, 193],\n",
              "        [182, 140, 118],\n",
              "        [194, 155, 128]])"
            ]
          },
          "metadata": {},
          "execution_count": 53
        }
      ]
    },
    {
      "cell_type": "markdown",
      "source": [
        "#### Most common error in deep learning: shape error"
      ],
      "metadata": {
        "id": "qubMAHVYoMJc"
      }
    },
    {
      "cell_type": "code",
      "source": [
        "# shapes of matrix multiplication\n",
        "\n",
        "tensor_A = torch.tensor([[1, 2],\n",
        "                         [3, 4],\n",
        "                         [5, 6]])\n",
        "\n",
        "tensor_B = torch.tensor([[7, 10],\n",
        "                         [8, 11],\n",
        "                         [9, 12]])"
      ],
      "metadata": {
        "id": "QWbalvK7kUNz"
      },
      "execution_count": null,
      "outputs": []
    },
    {
      "cell_type": "code",
      "source": [
        "torch.mm(tensor_A,tensor_B)# torch.mm is same as torch.matmul"
      ],
      "metadata": {
        "colab": {
          "base_uri": "https://localhost:8080/",
          "height": 141
        },
        "id": "7mJdzubao91E",
        "outputId": "ca5be49a-9754-4f6c-d3e0-def711536c38"
      },
      "execution_count": null,
      "outputs": [
        {
          "output_type": "error",
          "ename": "RuntimeError",
          "evalue": "mat1 and mat2 shapes cannot be multiplied (3x2 and 3x2)",
          "traceback": [
            "\u001b[0;31m---------------------------------------------------------------------------\u001b[0m",
            "\u001b[0;31mRuntimeError\u001b[0m                              Traceback (most recent call last)",
            "\u001b[0;32m<ipython-input-56-631ee47e40ff>\u001b[0m in \u001b[0;36m<cell line: 1>\u001b[0;34m()\u001b[0m\n\u001b[0;32m----> 1\u001b[0;31m \u001b[0mtorch\u001b[0m\u001b[0;34m.\u001b[0m\u001b[0mmm\u001b[0m\u001b[0;34m(\u001b[0m\u001b[0mtensor_A\u001b[0m\u001b[0;34m,\u001b[0m\u001b[0mtensor_B\u001b[0m\u001b[0;34m)\u001b[0m\u001b[0;31m# torch.mm is same as torch.matmul\u001b[0m\u001b[0;34m\u001b[0m\u001b[0;34m\u001b[0m\u001b[0m\n\u001b[0m",
            "\u001b[0;31mRuntimeError\u001b[0m: mat1 and mat2 shapes cannot be multiplied (3x2 and 3x2)"
          ]
        }
      ]
    },
    {
      "cell_type": "code",
      "source": [
        "tensor_A.shape,tensor_B.shape"
      ],
      "metadata": {
        "colab": {
          "base_uri": "https://localhost:8080/"
        },
        "id": "JPv4dUUhpJ_v",
        "outputId": "90fc128a-740c-4169-ac43-12589ff7a641"
      },
      "execution_count": null,
      "outputs": [
        {
          "output_type": "execute_result",
          "data": {
            "text/plain": [
              "(torch.Size([3, 2]), torch.Size([3, 2]))"
            ]
          },
          "metadata": {},
          "execution_count": 57
        }
      ]
    },
    {
      "cell_type": "markdown",
      "source": [
        "##### Transpose\n",
        "\n",
        "To fix our tensor shape issue we can manipulate the shape of onr of our tensors using transpose\n",
        "\n",
        "A **transpose** chaneges rows to columns and colums to rows"
      ],
      "metadata": {
        "id": "kduuWaxVpeqf"
      }
    },
    {
      "cell_type": "code",
      "source": [
        "tensor_A"
      ],
      "metadata": {
        "colab": {
          "base_uri": "https://localhost:8080/"
        },
        "id": "JTON5HNdp3JT",
        "outputId": "8cd0e0e3-f4a2-4414-fb12-b0eec384888e"
      },
      "execution_count": null,
      "outputs": [
        {
          "output_type": "execute_result",
          "data": {
            "text/plain": [
              "tensor([[1, 2],\n",
              "        [3, 4],\n",
              "        [5, 6]])"
            ]
          },
          "metadata": {},
          "execution_count": 58
        }
      ]
    },
    {
      "cell_type": "code",
      "source": [
        "tensor_B"
      ],
      "metadata": {
        "colab": {
          "base_uri": "https://localhost:8080/"
        },
        "id": "GhDo4vcGp8Z7",
        "outputId": "a5689ae9-fe84-4ec8-e01d-7fd9b143fadd"
      },
      "execution_count": null,
      "outputs": [
        {
          "output_type": "execute_result",
          "data": {
            "text/plain": [
              "tensor([[ 7, 10],\n",
              "        [ 8, 11],\n",
              "        [ 9, 12]])"
            ]
          },
          "metadata": {},
          "execution_count": 59
        }
      ]
    },
    {
      "cell_type": "code",
      "source": [
        "## tensor.T for transpose (  tensor will be name of the tensor ( .T ) for transpose )\n",
        "tensor_B.T\n"
      ],
      "metadata": {
        "colab": {
          "base_uri": "https://localhost:8080/"
        },
        "id": "qJOhNKKop-hd",
        "outputId": "5d9422a3-5d8c-48bb-afaa-8e89825ab609"
      },
      "execution_count": null,
      "outputs": [
        {
          "output_type": "execute_result",
          "data": {
            "text/plain": [
              "tensor([[ 7,  8,  9],\n",
              "        [10, 11, 12]])"
            ]
          },
          "metadata": {},
          "execution_count": 60
        }
      ]
    },
    {
      "cell_type": "code",
      "source": [
        "\n",
        "torch.matmul(tensor_A,tensor_B.T)"
      ],
      "metadata": {
        "colab": {
          "base_uri": "https://localhost:8080/"
        },
        "id": "weWIDBp6qACE",
        "outputId": "1f052780-909d-4cc1-f44b-dfb006436718"
      },
      "execution_count": null,
      "outputs": [
        {
          "output_type": "execute_result",
          "data": {
            "text/plain": [
              "tensor([[ 27,  30,  33],\n",
              "        [ 61,  68,  75],\n",
              "        [ 95, 106, 117]])"
            ]
          },
          "metadata": {},
          "execution_count": 61
        }
      ]
    },
    {
      "cell_type": "markdown",
      "source": [
        "## Finding the min , max , mean , sum ,etc(tensor aggeration)\n"
      ],
      "metadata": {
        "id": "ujSl5CVrsQeu"
      }
    },
    {
      "cell_type": "code",
      "source": [
        "#create a tensor\n",
        "x=torch.randint(100 ,(1,10))\n",
        "\n",
        "# randint( limit of random numbers to choose from ex - 0-100 , (rows,colums))\n",
        "\n",
        "x"
      ],
      "metadata": {
        "colab": {
          "base_uri": "https://localhost:8080/"
        },
        "id": "N_WJR3RLqh_D",
        "outputId": "94f72a90-93e6-4854-f14f-66889a344cc6"
      },
      "execution_count": null,
      "outputs": [
        {
          "output_type": "execute_result",
          "data": {
            "text/plain": [
              "tensor([[21, 63, 81, 60, 93, 36, 45, 78, 71, 66]])"
            ]
          },
          "metadata": {},
          "execution_count": 62
        }
      ]
    },
    {
      "cell_type": "code",
      "source": [
        "# max\n",
        "torch.max(x), x.max()"
      ],
      "metadata": {
        "colab": {
          "base_uri": "https://localhost:8080/"
        },
        "id": "85y1jJxfsk6_",
        "outputId": "b606c32b-39b4-4b6e-e92c-856e7eac02d7"
      },
      "execution_count": null,
      "outputs": [
        {
          "output_type": "execute_result",
          "data": {
            "text/plain": [
              "(tensor(93), tensor(93))"
            ]
          },
          "metadata": {},
          "execution_count": 63
        }
      ]
    },
    {
      "cell_type": "code",
      "source": [
        "# min\n",
        "torch.min(x) , x.min()"
      ],
      "metadata": {
        "colab": {
          "base_uri": "https://localhost:8080/"
        },
        "id": "V9brb42nsrnd",
        "outputId": "fb32e64d-d941-47df-e44a-4e88e5a37b81"
      },
      "execution_count": null,
      "outputs": [
        {
          "output_type": "execute_result",
          "data": {
            "text/plain": [
              "(tensor(21), tensor(21))"
            ]
          },
          "metadata": {},
          "execution_count": 64
        }
      ]
    },
    {
      "cell_type": "code",
      "source": [
        "# sum\n",
        "torch.sum(x) ,x.sum()"
      ],
      "metadata": {
        "colab": {
          "base_uri": "https://localhost:8080/"
        },
        "id": "oB4eEvI0suX8",
        "outputId": "89a27e7a-c642-43b3-b36b-30867f87c7d5"
      },
      "execution_count": null,
      "outputs": [
        {
          "output_type": "execute_result",
          "data": {
            "text/plain": [
              "(tensor(614), tensor(614))"
            ]
          },
          "metadata": {},
          "execution_count": 65
        }
      ]
    },
    {
      "cell_type": "code",
      "source": [
        "# Mean\n",
        "\n",
        "# Note -- the torch.mean require the dtype to be float or complex only to work\n",
        "\n",
        "torch.mean(x.type(torch.float32))\n",
        "\n",
        "## type to change dtype\n"
      ],
      "metadata": {
        "colab": {
          "base_uri": "https://localhost:8080/"
        },
        "id": "OM7d6WfSsw2h",
        "outputId": "6cd30c7c-50cd-410b-c29c-da0464f78f40"
      },
      "execution_count": null,
      "outputs": [
        {
          "output_type": "execute_result",
          "data": {
            "text/plain": [
              "tensor(61.4000)"
            ]
          },
          "metadata": {},
          "execution_count": 66
        }
      ]
    },
    {
      "cell_type": "code",
      "source": [
        "x.type(torch.float).mean()"
      ],
      "metadata": {
        "colab": {
          "base_uri": "https://localhost:8080/"
        },
        "id": "lrt-aACeszL_",
        "outputId": "73896e71-bfed-4857-953f-1df61ff4b861"
      },
      "execution_count": null,
      "outputs": [
        {
          "output_type": "execute_result",
          "data": {
            "text/plain": [
              "tensor(61.4000)"
            ]
          },
          "metadata": {},
          "execution_count": 67
        }
      ]
    },
    {
      "cell_type": "markdown",
      "source": [
        "#### Finding the position of min and max element"
      ],
      "metadata": {
        "id": "yxK32yi-v11n"
      }
    },
    {
      "cell_type": "code",
      "source": [
        "# argmin() -- find the position of tensor that has the minimun value and return the index\n",
        "torch.argmin(x)"
      ],
      "metadata": {
        "colab": {
          "base_uri": "https://localhost:8080/"
        },
        "id": "Sjm0Ym9YttOA",
        "outputId": "3531ab14-5c7b-4008-99b8-dd43c2a866e5"
      },
      "execution_count": null,
      "outputs": [
        {
          "output_type": "execute_result",
          "data": {
            "text/plain": [
              "tensor(0)"
            ]
          },
          "metadata": {},
          "execution_count": 68
        }
      ]
    },
    {
      "cell_type": "code",
      "source": [
        "# argmax() -- find the position of tensor that has the maximum value and return the index\n",
        "\n",
        "torch.argmax(x)"
      ],
      "metadata": {
        "colab": {
          "base_uri": "https://localhost:8080/"
        },
        "id": "VGAADoHpuHCK",
        "outputId": "4ec1b921-b09e-4b31-b8b5-7271d775cd4d"
      },
      "execution_count": null,
      "outputs": [
        {
          "output_type": "execute_result",
          "data": {
            "text/plain": [
              "tensor(4)"
            ]
          },
          "metadata": {},
          "execution_count": 69
        }
      ]
    },
    {
      "cell_type": "code",
      "source": [
        "x [0][9]"
      ],
      "metadata": {
        "id": "jl0t5Y1NugIH",
        "colab": {
          "base_uri": "https://localhost:8080/"
        },
        "outputId": "f36f4a10-0c5e-4a82-8b4d-66bbf4886bbf"
      },
      "execution_count": null,
      "outputs": [
        {
          "output_type": "execute_result",
          "data": {
            "text/plain": [
              "tensor(66)"
            ]
          },
          "metadata": {},
          "execution_count": 70
        }
      ]
    },
    {
      "cell_type": "markdown",
      "source": [
        "## Rehaping ,Stacking, Squeezing & unsqeezing tensors\n",
        "\n",
        "* Reshaping -- Reshapes an input into a defined shape\n",
        "* view  - return a view of an input tensor of a certain shape but Keeps the same memory\n",
        "* stacking - combine multiple tensors on top of each other\n",
        "* Squeeze - Remove all `1` dimension from a tensor\n",
        "\n",
        "* unsqueeze - add a `1` dimension to a target tensor\n",
        "* Permute - Return a view of the input with dimensions permuted(swapped) in a certain way"
      ],
      "metadata": {
        "id": "wbGYpvK5rb4M"
      }
    },
    {
      "cell_type": "code",
      "source": [
        "# lets create a tesnor\n",
        "\n",
        "import torch\n",
        "x=torch.arange(1.,10.)\n",
        "x, x.shape"
      ],
      "metadata": {
        "colab": {
          "base_uri": "https://localhost:8080/"
        },
        "id": "tQz5hurBta7F",
        "outputId": "a81b422f-7acb-4232-da92-6b7eab17609d"
      },
      "execution_count": null,
      "outputs": [
        {
          "output_type": "execute_result",
          "data": {
            "text/plain": [
              "(tensor([1., 2., 3., 4., 5., 6., 7., 8., 9.]), torch.Size([9]))"
            ]
          },
          "metadata": {},
          "execution_count": 71
        }
      ]
    },
    {
      "cell_type": "code",
      "source": [
        "x_reshape=x.reshape(1,9)\n",
        "# change the shape first  rows second colums the number of shapes need to equal to number of elements\n",
        "# ex (3,3)=3*3=9    , number of elements in tensor =\n",
        "x_reshape, x_reshape.shape"
      ],
      "metadata": {
        "colab": {
          "base_uri": "https://localhost:8080/"
        },
        "id": "NWmtOi_NtpVI",
        "outputId": "49f5dba2-aadf-4429-bf1c-feed1a7a09e3"
      },
      "execution_count": null,
      "outputs": [
        {
          "output_type": "execute_result",
          "data": {
            "text/plain": [
              "(tensor([[1., 2., 3., 4., 5., 6., 7., 8., 9.]]), torch.Size([1, 9]))"
            ]
          },
          "metadata": {},
          "execution_count": 72
        }
      ]
    },
    {
      "cell_type": "code",
      "source": [
        "# change the view\n",
        "\n",
        "z= x.view(1,9)\n",
        "z , z.shape"
      ],
      "metadata": {
        "colab": {
          "base_uri": "https://localhost:8080/"
        },
        "id": "9u2Qr9_Ot6e-",
        "outputId": "3ecb5485-a59b-468d-9940-9ed07af7995a"
      },
      "execution_count": null,
      "outputs": [
        {
          "output_type": "execute_result",
          "data": {
            "text/plain": [
              "(tensor([[1., 2., 3., 4., 5., 6., 7., 8., 9.]]), torch.Size([1, 9]))"
            ]
          },
          "metadata": {},
          "execution_count": 73
        }
      ]
    },
    {
      "cell_type": "code",
      "source": [
        "#changing Z changes x (cause a view of a tensotr shares the same memorhy as the original)\n",
        "\n",
        "z[:,0]=5\n",
        "z,x"
      ],
      "metadata": {
        "colab": {
          "base_uri": "https://localhost:8080/"
        },
        "id": "2EjebimovEyq",
        "outputId": "b71e456f-c19a-4730-d738-48db630c71db"
      },
      "execution_count": null,
      "outputs": [
        {
          "output_type": "execute_result",
          "data": {
            "text/plain": [
              "(tensor([[5., 2., 3., 4., 5., 6., 7., 8., 9.]]),\n",
              " tensor([5., 2., 3., 4., 5., 6., 7., 8., 9.]))"
            ]
          },
          "metadata": {},
          "execution_count": 74
        }
      ]
    },
    {
      "cell_type": "code",
      "source": [
        "# stack tensors on top of sach other\n",
        "\n",
        "x_stack=torch.stack([x,x,x,x],dim=1) #dim = 0 horizontal 1 = vertical\n",
        "x_stack"
      ],
      "metadata": {
        "colab": {
          "base_uri": "https://localhost:8080/"
        },
        "id": "8S62ehHovWcE",
        "outputId": "d2046f0f-48d2-450c-b416-90659dd868da"
      },
      "execution_count": null,
      "outputs": [
        {
          "output_type": "execute_result",
          "data": {
            "text/plain": [
              "tensor([[5., 5., 5., 5.],\n",
              "        [2., 2., 2., 2.],\n",
              "        [3., 3., 3., 3.],\n",
              "        [4., 4., 4., 4.],\n",
              "        [5., 5., 5., 5.],\n",
              "        [6., 6., 6., 6.],\n",
              "        [7., 7., 7., 7.],\n",
              "        [8., 8., 8., 8.],\n",
              "        [9., 9., 9., 9.]])"
            ]
          },
          "metadata": {},
          "execution_count": 75
        }
      ]
    },
    {
      "cell_type": "code",
      "source": [
        "\n",
        "x_reshape"
      ],
      "metadata": {
        "colab": {
          "base_uri": "https://localhost:8080/"
        },
        "id": "jMkZx8oHwqMj",
        "outputId": "873c2d96-a3e4-47fb-c77c-4508ad96c0d3"
      },
      "execution_count": null,
      "outputs": [
        {
          "output_type": "execute_result",
          "data": {
            "text/plain": [
              "tensor([[5., 2., 3., 4., 5., 6., 7., 8., 9.]])"
            ]
          },
          "metadata": {},
          "execution_count": 76
        }
      ]
    },
    {
      "cell_type": "code",
      "source": [
        "x_reshape.shape"
      ],
      "metadata": {
        "colab": {
          "base_uri": "https://localhost:8080/"
        },
        "id": "xmzyeo07z7e_",
        "outputId": "3d6db9eb-b84b-4b75-bea9-1a82df5b0076"
      },
      "execution_count": null,
      "outputs": [
        {
          "output_type": "execute_result",
          "data": {
            "text/plain": [
              "torch.Size([1, 9])"
            ]
          },
          "metadata": {},
          "execution_count": 77
        }
      ]
    },
    {
      "cell_type": "code",
      "source": [
        "x_reshape.squeeze()"
      ],
      "metadata": {
        "colab": {
          "base_uri": "https://localhost:8080/"
        },
        "id": "LIi5YHg7wyq8",
        "outputId": "8697dc3a-bc21-459c-bf0c-3bfbd8038578"
      },
      "execution_count": null,
      "outputs": [
        {
          "output_type": "execute_result",
          "data": {
            "text/plain": [
              "tensor([5., 2., 3., 4., 5., 6., 7., 8., 9.])"
            ]
          },
          "metadata": {},
          "execution_count": 78
        }
      ]
    },
    {
      "cell_type": "code",
      "source": [
        "x_reshape.squeeze().shape"
      ],
      "metadata": {
        "colab": {
          "base_uri": "https://localhost:8080/"
        },
        "id": "91tKzBBwyp4g",
        "outputId": "4a3f17c7-3937-4a68-f8e6-527cce047593"
      },
      "execution_count": null,
      "outputs": [
        {
          "output_type": "execute_result",
          "data": {
            "text/plain": [
              "torch.Size([9])"
            ]
          },
          "metadata": {},
          "execution_count": 79
        }
      ]
    },
    {
      "cell_type": "code",
      "source": [
        "# torch.squeeze\n",
        "print(f\"previous tensor{x_reshape}\")\n",
        "print(f\"previous tensor{x_reshape.shape}\")\n",
        "\n",
        "\n",
        "# after squeeze\n",
        "x_squeeze=x_reshape.squeeze()\n",
        "print(f\"previous tensor{x_reshape.squeeze()}\")\n",
        "print(f\"previous tensor{x_reshape.squeeze().shape}\")\n"
      ],
      "metadata": {
        "colab": {
          "base_uri": "https://localhost:8080/"
        },
        "id": "iCsEfHhpz4PS",
        "outputId": "42134529-7a73-4af1-883f-cfc87f8c97ee"
      },
      "execution_count": null,
      "outputs": [
        {
          "output_type": "stream",
          "name": "stdout",
          "text": [
            "previous tensortensor([[5., 2., 3., 4., 5., 6., 7., 8., 9.]])\n",
            "previous tensortorch.Size([1, 9])\n",
            "previous tensortensor([5., 2., 3., 4., 5., 6., 7., 8., 9.])\n",
            "previous tensortorch.Size([9])\n"
          ]
        }
      ]
    },
    {
      "cell_type": "code",
      "source": [
        "# torch.unsqueeze  -- Add Single dimension at speciic dim\n",
        "\n",
        "print(f\"previous target{x_squeeze}\")\n",
        "print(f\"previous tensor{x_squeeze.shape}\")\n",
        "# after squeeze\n",
        "x_unsqueeze=x_squeeze.unsqueeze(dim=0)\n",
        "\n",
        "print(f\"previous tensor{x_unsqueeze}\")\n",
        "print(f\"previous tensor{x_unsqueeze.shape}\")\n"
      ],
      "metadata": {
        "colab": {
          "base_uri": "https://localhost:8080/"
        },
        "id": "O6WXLyot0k9l",
        "outputId": "8b707f48-ad35-4f06-cc23-7e77d8a07800"
      },
      "execution_count": null,
      "outputs": [
        {
          "output_type": "stream",
          "name": "stdout",
          "text": [
            "previous targettensor([5., 2., 3., 4., 5., 6., 7., 8., 9.])\n",
            "previous tensortorch.Size([9])\n",
            "previous tensortensor([[5., 2., 3., 4., 5., 6., 7., 8., 9.]])\n",
            "previous tensortorch.Size([1, 9])\n"
          ]
        }
      ]
    },
    {
      "cell_type": "code",
      "source": [
        "# torch.permute -- Rearrage the dimension of a target tensor in a specified order\n",
        "\n",
        "x_original=torch.rand(224,224,3) # height , width , color channel\n",
        "\n",
        "# permute the original tensor\n",
        "\n",
        "x_permuted=x_original.permute(2,0,1) # shift axis 0->1, 1->2, 2->0"
      ],
      "metadata": {
        "id": "1LFJ8OsS1Mai"
      },
      "execution_count": null,
      "outputs": []
    },
    {
      "cell_type": "code",
      "source": [
        "x_permuted"
      ],
      "metadata": {
        "colab": {
          "base_uri": "https://localhost:8080/"
        },
        "id": "kvbTFRnc3UJL",
        "outputId": "e4c32472-68cf-40f4-987a-a0b3be65a90f"
      },
      "execution_count": null,
      "outputs": [
        {
          "output_type": "execute_result",
          "data": {
            "text/plain": [
              "tensor([[[0.4008, 0.3334, 0.2544,  ..., 0.1547, 0.3740, 0.8705],\n",
              "         [0.7355, 0.9207, 0.4009,  ..., 0.2937, 0.6790, 0.2083],\n",
              "         [0.3418, 0.5748, 0.5851,  ..., 0.9190, 0.8507, 0.1407],\n",
              "         ...,\n",
              "         [0.5790, 0.5180, 0.5523,  ..., 0.4178, 0.0577, 0.9642],\n",
              "         [0.9489, 0.1427, 0.7509,  ..., 0.2976, 0.7035, 0.4050],\n",
              "         [0.5261, 0.6760, 0.5457,  ..., 0.5715, 0.9082, 0.9048]],\n",
              "\n",
              "        [[0.5238, 0.7382, 0.9355,  ..., 0.9563, 0.7095, 0.6318],\n",
              "         [0.5923, 0.1820, 0.5382,  ..., 0.8184, 0.7644, 0.3482],\n",
              "         [0.9741, 0.1279, 0.1368,  ..., 0.6518, 0.6239, 0.8944],\n",
              "         ...,\n",
              "         [0.9732, 0.9482, 0.7412,  ..., 0.5433, 0.8048, 0.4971],\n",
              "         [0.2530, 0.9165, 0.7056,  ..., 0.9466, 0.8364, 0.6043],\n",
              "         [0.0432, 0.7427, 0.2332,  ..., 0.1261, 0.5098, 0.8093]],\n",
              "\n",
              "        [[0.9999, 0.6307, 0.8170,  ..., 0.5713, 0.9219, 0.3274],\n",
              "         [0.8080, 0.8961, 0.9431,  ..., 0.6032, 0.1540, 0.7732],\n",
              "         [0.8530, 0.0433, 0.5670,  ..., 0.5210, 0.5508, 0.3493],\n",
              "         ...,\n",
              "         [0.4694, 0.9000, 0.1797,  ..., 0.2208, 0.5942, 0.8710],\n",
              "         [0.7976, 0.6707, 0.1578,  ..., 0.6848, 0.0277, 0.9012],\n",
              "         [0.6323, 0.3037, 0.1273,  ..., 0.0898, 0.7316, 0.5485]]])"
            ]
          },
          "metadata": {},
          "execution_count": 83
        }
      ]
    },
    {
      "cell_type": "code",
      "source": [
        "print(f\"previous shape: {x_original.shape}\")\n",
        "print(f\"new shape: {x_permuted.shape}\")"
      ],
      "metadata": {
        "colab": {
          "base_uri": "https://localhost:8080/"
        },
        "id": "g4AD-EyE3o2I",
        "outputId": "3b4b840a-4f21-4961-99ae-944d58c8b9d0"
      },
      "execution_count": null,
      "outputs": [
        {
          "output_type": "stream",
          "name": "stdout",
          "text": [
            "previous shape: torch.Size([224, 224, 3])\n",
            "new shape: torch.Size([3, 224, 224])\n"
          ]
        }
      ]
    },
    {
      "cell_type": "code",
      "source": [
        "x_original[0,0,0]=1"
      ],
      "metadata": {
        "id": "EdTh2EVX37Ai"
      },
      "execution_count": null,
      "outputs": []
    },
    {
      "cell_type": "code",
      "source": [
        "x_permuted[0,0,0],x_original[0,0,0]"
      ],
      "metadata": {
        "colab": {
          "base_uri": "https://localhost:8080/"
        },
        "id": "ksO7pIYr4WXL",
        "outputId": "106700fe-64e1-4c83-b926-be3fe34438a4"
      },
      "execution_count": null,
      "outputs": [
        {
          "output_type": "execute_result",
          "data": {
            "text/plain": [
              "(tensor(1.), tensor(1.))"
            ]
          },
          "metadata": {},
          "execution_count": 86
        }
      ]
    },
    {
      "cell_type": "markdown",
      "source": [
        "## Indexing\n",
        "\n",
        "Indexing with pytorch is similar to indexing with numpy"
      ],
      "metadata": {
        "id": "-qYnQg624cgq"
      }
    },
    {
      "cell_type": "code",
      "source": [
        "x= torch.arange(1,28).reshape(1,3,3,3)\n",
        "x,\n",
        "x.shape"
      ],
      "metadata": {
        "colab": {
          "base_uri": "https://localhost:8080/"
        },
        "id": "B1Q6QZ585JKp",
        "outputId": "072e8fb9-0f8e-4977-cf8d-b357e9ead71c"
      },
      "execution_count": null,
      "outputs": [
        {
          "output_type": "execute_result",
          "data": {
            "text/plain": [
              "torch.Size([1, 3, 3, 3])"
            ]
          },
          "metadata": {},
          "execution_count": 87
        }
      ]
    },
    {
      "cell_type": "code",
      "source": [
        "x[0]"
      ],
      "metadata": {
        "colab": {
          "base_uri": "https://localhost:8080/"
        },
        "id": "bFB8aSXP5U4u",
        "outputId": "5d2ac658-b04d-4829-badf-3969eea278a3"
      },
      "execution_count": null,
      "outputs": [
        {
          "output_type": "execute_result",
          "data": {
            "text/plain": [
              "tensor([[[ 1,  2,  3],\n",
              "         [ 4,  5,  6],\n",
              "         [ 7,  8,  9]],\n",
              "\n",
              "        [[10, 11, 12],\n",
              "         [13, 14, 15],\n",
              "         [16, 17, 18]],\n",
              "\n",
              "        [[19, 20, 21],\n",
              "         [22, 23, 24],\n",
              "         [25, 26, 27]]])"
            ]
          },
          "metadata": {},
          "execution_count": 88
        }
      ]
    },
    {
      "cell_type": "code",
      "source": [
        "x[0][1]"
      ],
      "metadata": {
        "colab": {
          "base_uri": "https://localhost:8080/"
        },
        "id": "z0TG-p_d5ha_",
        "outputId": "e67a7d8c-77d9-412b-b493-5b42acfa99b9"
      },
      "execution_count": null,
      "outputs": [
        {
          "output_type": "execute_result",
          "data": {
            "text/plain": [
              "tensor([[10, 11, 12],\n",
              "        [13, 14, 15],\n",
              "        [16, 17, 18]])"
            ]
          },
          "metadata": {},
          "execution_count": 89
        }
      ]
    },
    {
      "cell_type": "code",
      "source": [
        "x[0][1][1]"
      ],
      "metadata": {
        "colab": {
          "base_uri": "https://localhost:8080/"
        },
        "id": "bYhoTHGh5kM9",
        "outputId": "ef1d1944-cf39-40d6-b6b8-285ce5ccdbf9"
      },
      "execution_count": null,
      "outputs": [
        {
          "output_type": "execute_result",
          "data": {
            "text/plain": [
              "tensor([13, 14, 15])"
            ]
          },
          "metadata": {},
          "execution_count": 90
        }
      ]
    },
    {
      "cell_type": "code",
      "source": [
        "x[0][1][1][0]"
      ],
      "metadata": {
        "colab": {
          "base_uri": "https://localhost:8080/"
        },
        "id": "yjw7RJFm5pnA",
        "outputId": "e58230b5-2ce0-47f2-ba3f-9114cba24d4a"
      },
      "execution_count": null,
      "outputs": [
        {
          "output_type": "execute_result",
          "data": {
            "text/plain": [
              "tensor(13)"
            ]
          },
          "metadata": {},
          "execution_count": 91
        }
      ]
    },
    {
      "cell_type": "code",
      "source": [
        "# we can also use \":\" to select all of the targeted dimension\n",
        "\n",
        "x[:,1,0]"
      ],
      "metadata": {
        "colab": {
          "base_uri": "https://localhost:8080/"
        },
        "id": "jviTN9QS5uRq",
        "outputId": "654d79eb-4981-4069-dd45-e346ce8097d4"
      },
      "execution_count": null,
      "outputs": [
        {
          "output_type": "execute_result",
          "data": {
            "text/plain": [
              "tensor([[10, 11, 12]])"
            ]
          },
          "metadata": {},
          "execution_count": 92
        }
      ]
    },
    {
      "cell_type": "code",
      "source": [
        "x[:,:,1]"
      ],
      "metadata": {
        "colab": {
          "base_uri": "https://localhost:8080/"
        },
        "id": "oSUe2u196eHz",
        "outputId": "a18d1ef8-304e-453f-8efc-6c45f7bbba34"
      },
      "execution_count": null,
      "outputs": [
        {
          "output_type": "execute_result",
          "data": {
            "text/plain": [
              "tensor([[[ 4,  5,  6],\n",
              "         [13, 14, 15],\n",
              "         [22, 23, 24]]])"
            ]
          },
          "metadata": {},
          "execution_count": 93
        }
      ]
    },
    {
      "cell_type": "code",
      "source": [
        "# get all vlaue of 0 dimension idex only of 1,2\n",
        "\n",
        "x[:,:,:,1]"
      ],
      "metadata": {
        "colab": {
          "base_uri": "https://localhost:8080/"
        },
        "id": "RbzLEjSM6s2v",
        "outputId": "744f394a-684f-4698-9991-f2a20929fe6d"
      },
      "execution_count": null,
      "outputs": [
        {
          "output_type": "execute_result",
          "data": {
            "text/plain": [
              "tensor([[[ 2,  5,  8],\n",
              "         [11, 14, 17],\n",
              "         [20, 23, 26]]])"
            ]
          },
          "metadata": {},
          "execution_count": 94
        }
      ]
    },
    {
      "cell_type": "code",
      "source": [
        "x[:,0,2,2]"
      ],
      "metadata": {
        "colab": {
          "base_uri": "https://localhost:8080/"
        },
        "id": "GZnsq2f-7Dcm",
        "outputId": "b2c7a311-3a9d-4f8e-8482-e517505704f8"
      },
      "execution_count": null,
      "outputs": [
        {
          "output_type": "execute_result",
          "data": {
            "text/plain": [
              "tensor([9])"
            ]
          },
          "metadata": {},
          "execution_count": 95
        }
      ]
    },
    {
      "cell_type": "markdown",
      "source": [
        "## Pytorch tensors & numpy\n",
        "\n",
        "Numpy is a popular scientific python numerical computing library\n",
        "and because of this pytorch has functionality to interact with it\n",
        "\n",
        "* Data in numpy , want in pytorch tensor -> `torch.from_numpy(ndarray)`\n",
        "* Pytorch tensor -> Numpy -> `torch.Tensor.numpy()`"
      ],
      "metadata": {
        "id": "wp4Xe0Ox7shF"
      }
    },
    {
      "cell_type": "code",
      "source": [
        "# numpy array to tensor\n",
        "\n",
        "import torch\n",
        "import numpy as np\n",
        "\n",
        "array =np.arange(1.,15.,2)\n",
        "tensor=torch.from_numpy(array) #when converting to tensor  it will convert to default float64 according to numpy not float32\n",
        "#tensor=torch.from_numpy(array).type(torch.float32\n",
        "\n",
        "array,tensor"
      ],
      "metadata": {
        "id": "iot0v0Aa8a0G",
        "colab": {
          "base_uri": "https://localhost:8080/"
        },
        "outputId": "3f2cd933-fcb6-47e2-a9fe-28b7d7225da1"
      },
      "execution_count": null,
      "outputs": [
        {
          "output_type": "execute_result",
          "data": {
            "text/plain": [
              "(array([ 1.,  3.,  5.,  7.,  9., 11., 13.]),\n",
              " tensor([ 1.,  3.,  5.,  7.,  9., 11., 13.]))"
            ]
          },
          "metadata": {},
          "execution_count": 102
        }
      ]
    },
    {
      "cell_type": "code",
      "source": [
        "array.dtype,tensor.dtype"
      ],
      "metadata": {
        "colab": {
          "base_uri": "https://localhost:8080/"
        },
        "id": "4q7cQoPnD90M",
        "outputId": "5d061d9c-f9d4-4c56-9cbd-cb5e71c3942e"
      },
      "execution_count": null,
      "outputs": [
        {
          "output_type": "execute_result",
          "data": {
            "text/plain": [
              "(dtype('float64'), torch.float32)"
            ]
          },
          "metadata": {},
          "execution_count": 103
        }
      ]
    },
    {
      "cell_type": "code",
      "source": [
        "torch.arange(1.,15.,2).dtype"
      ],
      "metadata": {
        "colab": {
          "base_uri": "https://localhost:8080/"
        },
        "id": "gcUQnwUZECt1",
        "outputId": "63de2331-489c-4751-a650-e7f9a139c14d"
      },
      "execution_count": null,
      "outputs": [
        {
          "output_type": "execute_result",
          "data": {
            "text/plain": [
              "torch.float32"
            ]
          },
          "metadata": {},
          "execution_count": 101
        }
      ]
    },
    {
      "cell_type": "code",
      "source": [
        "array=array+1\n",
        "# tensor is on new memoryy location\n",
        "array,tensor"
      ],
      "metadata": {
        "colab": {
          "base_uri": "https://localhost:8080/"
        },
        "id": "jKQRL3G6ETIq",
        "outputId": "ad2f410d-3903-4e9d-abd5-fb1687982c75"
      },
      "execution_count": null,
      "outputs": [
        {
          "output_type": "execute_result",
          "data": {
            "text/plain": [
              "(array([ 3.,  5.,  7.,  9., 11., 13., 15.]),\n",
              " tensor([ 1.,  3.,  5.,  7.,  9., 11., 13.]))"
            ]
          },
          "metadata": {},
          "execution_count": 105
        }
      ]
    },
    {
      "cell_type": "code",
      "source": [
        "## tensor to numpy array\n",
        "\n",
        "tensor =torch.randint(10,(1,3))\n",
        "numpy_tensor=tensor.numpy()\n",
        "tensor,numpy_tensor"
      ],
      "metadata": {
        "colab": {
          "base_uri": "https://localhost:8080/"
        },
        "id": "RoGKyWWoEzcD",
        "outputId": "748c5f31-e79c-4d3e-d8af-b6c72d4aebfb"
      },
      "execution_count": null,
      "outputs": [
        {
          "output_type": "execute_result",
          "data": {
            "text/plain": [
              "(tensor([[1, 0, 8]]), array([[1, 0, 8]]))"
            ]
          },
          "metadata": {},
          "execution_count": 115
        }
      ]
    },
    {
      "cell_type": "code",
      "source": [
        "tensor.dtype,numpy_tensor.dtype"
      ],
      "metadata": {
        "colab": {
          "base_uri": "https://localhost:8080/"
        },
        "id": "ygjCc3pBFFz5",
        "outputId": "14b37753-9d3a-4e19-e769-e1e545e8f9c1"
      },
      "execution_count": null,
      "outputs": [
        {
          "output_type": "execute_result",
          "data": {
            "text/plain": [
              "(torch.int64, dtype('int64'))"
            ]
          },
          "metadata": {},
          "execution_count": 116
        }
      ]
    },
    {
      "cell_type": "code",
      "source": [
        "tensor=tensor+1\n",
        "tensor,numpy_tensor"
      ],
      "metadata": {
        "colab": {
          "base_uri": "https://localhost:8080/"
        },
        "id": "l7yikVshFH1I",
        "outputId": "f99b4647-201e-4ef0-a5b3-11a7fa7af913"
      },
      "execution_count": null,
      "outputs": [
        {
          "output_type": "execute_result",
          "data": {
            "text/plain": [
              "(tensor([[2, 1, 9]]), array([[1, 0, 8]]))"
            ]
          },
          "metadata": {},
          "execution_count": 117
        }
      ]
    },
    {
      "cell_type": "markdown",
      "source": [
        "## Reproducibilty ( trying to take random out of random)\n",
        "\n",
        "In short how a neural network learn\n",
        "\n",
        "` start with random number-> tensor operations-> update random numbers to tey and make of the data -> again-> again-> again`\n",
        "\n",
        "To reduce the randomness in neural network and pytorch  comes concept of **random seed**\n",
        "\n",
        "Essentially what random seed does is flavour randomness"
      ],
      "metadata": {
        "id": "m5ojVaOnFxjb"
      }
    },
    {
      "cell_type": "code",
      "source": [
        "torch.rand(3,5,3)"
      ],
      "metadata": {
        "colab": {
          "base_uri": "https://localhost:8080/"
        },
        "id": "1i8ihjCTGe-W",
        "outputId": "0eefe6cf-3636-4fe5-cf1e-b3c0891804de"
      },
      "execution_count": null,
      "outputs": [
        {
          "output_type": "execute_result",
          "data": {
            "text/plain": [
              "tensor([[[0.6346, 0.7488, 0.6710],\n",
              "         [0.4343, 0.6563, 0.2630],\n",
              "         [0.3096, 0.3000, 0.3454],\n",
              "         [0.7558, 0.8756, 0.1956],\n",
              "         [0.8177, 0.6797, 0.3812]],\n",
              "\n",
              "        [[0.6671, 0.2979, 0.7843],\n",
              "         [0.2264, 0.6107, 0.0948],\n",
              "         [0.6937, 0.9475, 0.0063],\n",
              "         [0.0392, 0.2218, 0.7012],\n",
              "         [0.7955, 0.9001, 0.5861]],\n",
              "\n",
              "        [[0.9929, 0.3060, 0.5594],\n",
              "         [0.0613, 0.4907, 0.9416],\n",
              "         [0.8435, 0.0085, 0.1823],\n",
              "         [0.4088, 0.5534, 0.0412],\n",
              "         [0.6819, 0.0071, 0.0278]]])"
            ]
          },
          "metadata": {},
          "execution_count": 118
        }
      ]
    },
    {
      "cell_type": "code",
      "source": [
        "import torch\n",
        "\n",
        "# create two random tensors\n",
        "\n",
        "random_tensor_A=torch.rand(5,3)\n",
        "random_tensor_B=torch.rand(5,3)\n",
        "\n",
        "print(random_tensor_A)\n",
        "print(random_tensor_B)\n",
        "\n",
        "print(random_tensor_A==random_tensor_B)"
      ],
      "metadata": {
        "colab": {
          "base_uri": "https://localhost:8080/"
        },
        "id": "KhCnVhlDGic9",
        "outputId": "8ab87e63-4299-45a8-cc4e-05562cbcb5b1"
      },
      "execution_count": null,
      "outputs": [
        {
          "output_type": "stream",
          "name": "stdout",
          "text": [
            "tensor([[0.9240, 0.3136, 0.9903],\n",
            "        [0.7219, 0.1097, 0.6238],\n",
            "        [0.3392, 0.7721, 0.5619],\n",
            "        [0.1126, 0.7459, 0.1007],\n",
            "        [0.1431, 0.3816, 0.7663]])\n",
            "tensor([[0.5298, 0.1218, 0.0226],\n",
            "        [0.5620, 0.4505, 0.9981],\n",
            "        [0.8474, 0.4327, 0.3821],\n",
            "        [0.1701, 0.8530, 0.8384],\n",
            "        [0.5529, 0.8645, 0.9077]])\n",
            "tensor([[False, False, False],\n",
            "        [False, False, False],\n",
            "        [False, False, False],\n",
            "        [False, False, False],\n",
            "        [False, False, False]])\n"
          ]
        }
      ]
    },
    {
      "cell_type": "code",
      "source": [
        "#lets make some random but reproducable tensors\n",
        "\n",
        "Random_seed=500\n",
        "\n",
        "torch.manual_seed(Random_seed)\n",
        "random_tensor_C=torch.rand(5,3)\n",
        "\n",
        "torch.manual_seed(Random_seed)\n",
        "random_tensor_D=torch.rand(5,3)\n",
        "\n",
        "print(random_tensor_C)\n",
        "print(random_tensor_D)\n",
        "\n",
        "print(random_tensor_C==random_tensor_D)"
      ],
      "metadata": {
        "colab": {
          "base_uri": "https://localhost:8080/"
        },
        "id": "TXNrTh5AHN8y",
        "outputId": "549d8f6b-4b9a-4bd1-ef3c-769101875f70"
      },
      "execution_count": null,
      "outputs": [
        {
          "output_type": "stream",
          "name": "stdout",
          "text": [
            "tensor([[0.5820, 0.1338, 0.7995],\n",
            "        [0.3071, 0.6526, 0.6105],\n",
            "        [0.1575, 0.6983, 0.7883],\n",
            "        [0.7981, 0.4593, 0.8997],\n",
            "        [0.2518, 0.5648, 0.0302]])\n",
            "tensor([[0.5820, 0.1338, 0.7995],\n",
            "        [0.3071, 0.6526, 0.6105],\n",
            "        [0.1575, 0.6983, 0.7883],\n",
            "        [0.7981, 0.4593, 0.8997],\n",
            "        [0.2518, 0.5648, 0.0302]])\n",
            "tensor([[True, True, True],\n",
            "        [True, True, True],\n",
            "        [True, True, True],\n",
            "        [True, True, True],\n",
            "        [True, True, True]])\n"
          ]
        }
      ]
    },
    {
      "cell_type": "markdown",
      "source": [
        "## Running tensors and pytorch objects on GPU\n",
        "\n",
        "GPU = faster computation on numbers thanks to cuda + nvidia hardware + pytorch working behind the scenes to make everything hunky dory(good)"
      ],
      "metadata": {
        "id": "yKolz3ERIBmg"
      }
    },
    {
      "cell_type": "markdown",
      "source": [
        "#### 1. Getting a GPU\n",
        "\n",
        "1. using gogle colab  (free)\n",
        "2. use your own GPU (own GPU)\n",
        "3. Use cloud computing (Paid)\n"
      ],
      "metadata": {
        "id": "k9CH7avzGOzb"
      }
    },
    {
      "cell_type": "code",
      "source": [
        "!nvidia-smi"
      ],
      "metadata": {
        "colab": {
          "base_uri": "https://localhost:8080/"
        },
        "id": "9ig6wwR6G3iU",
        "outputId": "51f5a4f9-46bf-44ac-cb1e-717502fbf69a"
      },
      "execution_count": null,
      "outputs": [
        {
          "output_type": "stream",
          "name": "stdout",
          "text": [
            "Wed Sep 25 17:00:27 2024       \n",
            "+---------------------------------------------------------------------------------------+\n",
            "| NVIDIA-SMI 535.104.05             Driver Version: 535.104.05   CUDA Version: 12.2     |\n",
            "|-----------------------------------------+----------------------+----------------------+\n",
            "| GPU  Name                 Persistence-M | Bus-Id        Disp.A | Volatile Uncorr. ECC |\n",
            "| Fan  Temp   Perf          Pwr:Usage/Cap |         Memory-Usage | GPU-Util  Compute M. |\n",
            "|                                         |                      |               MIG M. |\n",
            "|=========================================+======================+======================|\n",
            "|   0  Tesla T4                       Off | 00000000:00:04.0 Off |                    0 |\n",
            "| N/A   42C    P8               9W /  70W |      0MiB / 15360MiB |      0%      Default |\n",
            "|                                         |                      |                  N/A |\n",
            "+-----------------------------------------+----------------------+----------------------+\n",
            "                                                                                         \n",
            "+---------------------------------------------------------------------------------------+\n",
            "| Processes:                                                                            |\n",
            "|  GPU   GI   CI        PID   Type   Process name                            GPU Memory |\n",
            "|        ID   ID                                                             Usage      |\n",
            "|=======================================================================================|\n",
            "|  No running processes found                                                           |\n",
            "+---------------------------------------------------------------------------------------+\n"
          ]
        }
      ]
    },
    {
      "cell_type": "markdown",
      "source": [
        "### 2. Cheak for GPU access for Pytorch"
      ],
      "metadata": {
        "id": "zXPVFy6DIEvu"
      }
    },
    {
      "cell_type": "code",
      "source": [
        "# cheak GPU access with pytorch\n",
        "\n",
        "import torch\n",
        "torch.cuda.is_available()"
      ],
      "metadata": {
        "colab": {
          "base_uri": "https://localhost:8080/"
        },
        "id": "khRHdSVHIeNy",
        "outputId": "08e28247-d921-4962-cdf6-f6a5410774dd"
      },
      "execution_count": null,
      "outputs": [
        {
          "output_type": "execute_result",
          "data": {
            "text/plain": [
              "True"
            ]
          },
          "metadata": {},
          "execution_count": 2
        }
      ]
    },
    {
      "cell_type": "markdown",
      "source": [
        "For pytorch since it able to comptute on both cpu and gpu its best to use device agnostic\n",
        "\n",
        "eg - use GPU if availble else CPU"
      ],
      "metadata": {
        "id": "AWfUXc7vJZ-y"
      }
    },
    {
      "cell_type": "code",
      "source": [
        "# setup device agnostic code\n",
        "\n",
        "device = \"cuda\" if torch.cuda.is_available() else \"cpu\"\n",
        "device"
      ],
      "metadata": {
        "colab": {
          "base_uri": "https://localhost:8080/",
          "height": 36
        },
        "id": "zTP5JChPInrV",
        "outputId": "6a50f15c-869f-4a81-ed74-6bd4b0dfdfd9"
      },
      "execution_count": null,
      "outputs": [
        {
          "output_type": "execute_result",
          "data": {
            "text/plain": [
              "'cuda'"
            ],
            "application/vnd.google.colaboratory.intrinsic+json": {
              "type": "string"
            }
          },
          "metadata": {},
          "execution_count": 3
        }
      ]
    },
    {
      "cell_type": "code",
      "source": [
        "#count the number of GPU\n",
        "torch.cuda.device_count()"
      ],
      "metadata": {
        "colab": {
          "base_uri": "https://localhost:8080/"
        },
        "id": "-_WT6XAYI_nh",
        "outputId": "0655bfc6-b710-4c0d-8273-315798bc9806"
      },
      "execution_count": null,
      "outputs": [
        {
          "output_type": "execute_result",
          "data": {
            "text/plain": [
              "1"
            ]
          },
          "metadata": {},
          "execution_count": 4
        }
      ]
    },
    {
      "cell_type": "markdown",
      "source": [
        "### 3. Putting tensors and models on the GPU\n",
        "\n",
        "the reason we want our tensors/models on the GPU is because using a GPU results in faster computations"
      ],
      "metadata": {
        "id": "BTE8lzKCJLJS"
      }
    },
    {
      "cell_type": "code",
      "source": [
        "# crete a tensor defaut device is on cpu\n",
        "tensor = torch.arange(7,50,2)\n",
        "\n",
        "tensor,tensor.device"
      ],
      "metadata": {
        "colab": {
          "base_uri": "https://localhost:8080/"
        },
        "id": "f96I15lsKdW-",
        "outputId": "0f5cc5a6-9d8d-49dc-a468-3fefa811ac20"
      },
      "execution_count": null,
      "outputs": [
        {
          "output_type": "execute_result",
          "data": {
            "text/plain": [
              "(tensor([ 7,  9, 11, 13, 15, 17, 19, 21, 23, 25, 27, 29, 31, 33, 35, 37, 39, 41,\n",
              "         43, 45, 47, 49]),\n",
              " device(type='cpu'))"
            ]
          },
          "metadata": {},
          "execution_count": 11
        }
      ]
    },
    {
      "cell_type": "code",
      "source": [
        "# move tensor to GPU\n",
        "\n",
        "tensor_gpu=tensor.to(device)\n",
        "tensor_gpu\n",
        "\n",
        "#cuda is the gpu 0 is index as we only have one if multiple works with index"
      ],
      "metadata": {
        "colab": {
          "base_uri": "https://localhost:8080/"
        },
        "id": "0tO6BSvFLHTm",
        "outputId": "53b84d27-845a-4402-d288-c7879031caa7"
      },
      "execution_count": null,
      "outputs": [
        {
          "output_type": "execute_result",
          "data": {
            "text/plain": [
              "tensor([ 7,  9, 11, 13, 15, 17, 19, 21, 23, 25, 27, 29, 31, 33, 35, 37, 39, 41,\n",
              "        43, 45, 47, 49], device='cuda:0')"
            ]
          },
          "metadata": {},
          "execution_count": 12
        }
      ]
    },
    {
      "cell_type": "markdown",
      "source": [
        "#### 4. moving tensor back to CPU"
      ],
      "metadata": {
        "id": "ABO-SIrVMbtU"
      }
    },
    {
      "cell_type": "code",
      "source": [
        "cpu_tensor=tensor.to(\"cpu\")\n",
        "cpu_tensor.device"
      ],
      "metadata": {
        "colab": {
          "base_uri": "https://localhost:8080/"
        },
        "id": "_Oeod-XnM1G-",
        "outputId": "170a45b5-5565-4fe0-babe-d07b353d8d74"
      },
      "execution_count": null,
      "outputs": [
        {
          "output_type": "execute_result",
          "data": {
            "text/plain": [
              "device(type='cpu')"
            ]
          },
          "metadata": {},
          "execution_count": 15
        }
      ]
    },
    {
      "cell_type": "code",
      "source": [
        "# if tensor is on GPU cant work with numpy\n",
        "\n",
        "tensor_gpu.numpy()"
      ],
      "metadata": {
        "colab": {
          "base_uri": "https://localhost:8080/",
          "height": 193
        },
        "id": "x_YuPjOwM9Ms",
        "outputId": "3648fac0-54a8-4788-d823-a86429638ecd"
      },
      "execution_count": null,
      "outputs": [
        {
          "output_type": "error",
          "ename": "TypeError",
          "evalue": "can't convert cuda:0 device type tensor to numpy. Use Tensor.cpu() to copy the tensor to host memory first.",
          "traceback": [
            "\u001b[0;31m---------------------------------------------------------------------------\u001b[0m",
            "\u001b[0;31mTypeError\u001b[0m                                 Traceback (most recent call last)",
            "\u001b[0;32m<ipython-input-16-ae992ff0f9ae>\u001b[0m in \u001b[0;36m<cell line: 3>\u001b[0;34m()\u001b[0m\n\u001b[1;32m      1\u001b[0m \u001b[0;31m# if tensor is on GPU cant work with numpy\u001b[0m\u001b[0;34m\u001b[0m\u001b[0;34m\u001b[0m\u001b[0m\n\u001b[1;32m      2\u001b[0m \u001b[0;34m\u001b[0m\u001b[0m\n\u001b[0;32m----> 3\u001b[0;31m \u001b[0mtensor_gpu\u001b[0m\u001b[0;34m.\u001b[0m\u001b[0mnumpy\u001b[0m\u001b[0;34m(\u001b[0m\u001b[0;34m)\u001b[0m\u001b[0;34m\u001b[0m\u001b[0;34m\u001b[0m\u001b[0m\n\u001b[0m",
            "\u001b[0;31mTypeError\u001b[0m: can't convert cuda:0 device type tensor to numpy. Use Tensor.cpu() to copy the tensor to host memory first."
          ]
        }
      ]
    },
    {
      "cell_type": "code",
      "source": [
        "# to fix the gpu tensor with numpy we can take back to cpu\n",
        "\n",
        "tensor_cpu=tensor_gpu.cpu().numpy()\n",
        "tensor_cpu"
      ],
      "metadata": {
        "colab": {
          "base_uri": "https://localhost:8080/"
        },
        "id": "1vZ-eCkxNKJX",
        "outputId": "8d83fc2c-6880-453b-db66-19c995a53981"
      },
      "execution_count": null,
      "outputs": [
        {
          "output_type": "execute_result",
          "data": {
            "text/plain": [
              "array([ 7,  9, 11, 13, 15, 17, 19, 21, 23, 25, 27, 29, 31, 33, 35, 37, 39,\n",
              "       41, 43, 45, 47, 49])"
            ]
          },
          "metadata": {},
          "execution_count": 17
        }
      ]
    },
    {
      "cell_type": "code",
      "source": [
        "tensor_gpu"
      ],
      "metadata": {
        "colab": {
          "base_uri": "https://localhost:8080/"
        },
        "id": "Mnq_uPlcNkgI",
        "outputId": "8d31421a-2fe1-45c0-a104-d0dd089181a6"
      },
      "execution_count": null,
      "outputs": [
        {
          "output_type": "execute_result",
          "data": {
            "text/plain": [
              "tensor([ 7,  9, 11, 13, 15, 17, 19, 21, 23, 25, 27, 29, 31, 33, 35, 37, 39, 41,\n",
              "        43, 45, 47, 49], device='cuda:0')"
            ]
          },
          "metadata": {},
          "execution_count": 18
        }
      ]
    },
    {
      "cell_type": "code",
      "source": [
        "## Exercise and extra Curriculam"
      ],
      "metadata": {
        "id": "x3853HUUNrXm"
      },
      "execution_count": null,
      "outputs": []
    }
  ]
}