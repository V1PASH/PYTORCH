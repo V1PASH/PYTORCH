{
  "cells": [
    {
      "cell_type": "markdown",
      "metadata": {
        "id": "view-in-github",
        "colab_type": "text"
      },
      "source": [
        "<a href=\"https://colab.research.google.com/github/V1PASH/PYTORCH/blob/main/01_Pytorch_workflow.ipynb\" target=\"_parent\"><img src=\"https://colab.research.google.com/assets/colab-badge.svg\" alt=\"Open In Colab\"/></a>"
      ]
    },
    {
      "cell_type": "code",
      "execution_count": null,
      "metadata": {
        "id": "-v3I7-O0muiK"
      },
      "outputs": [],
      "source": [
        "import torch\n",
        "import matplotlib as plt"
      ]
    },
    {
      "cell_type": "markdown",
      "metadata": {
        "id": "c6UA_a6UnP-e"
      },
      "source": [
        "#Pytorch Workflow\n",
        "\n",
        "\n",
        "https://www.learnpytorch.io/01_pytorch_workflow/"
      ]
    },
    {
      "cell_type": "code",
      "execution_count": null,
      "metadata": {
        "id": "3bJ6BkswnrGr"
      },
      "outputs": [],
      "source": [
        "import torch\n",
        "\n",
        "from torch import nn # nn contains all of pytorch building blocks for neural networks\n",
        "\n",
        "import matplotlib as plt\n",
        "\n",
        "import matplotlib.pyplot as plt"
      ]
    },
    {
      "cell_type": "markdown",
      "metadata": {
        "id": "6oiH2yz9oMxX"
      },
      "source": [
        "## 1. Data ( Preparing and loading)\n",
        "\n",
        "Data can be almost anything in machine learning\n",
        "\n",
        "* Excel spreadsheet\n",
        "* Images\n",
        "* Videos\n",
        "* Audio\n",
        "* DNA\n",
        "* text\n",
        "\n",
        "Machine learning is a game of two parts\n",
        "1. Get data into numerical representation\n",
        "2. Build a model to learn pattern in that numerical representation\n",
        "\n",
        "to showcase this lets create some known data a linear regression formula.\n",
        "\n",
        "we will use linear regression to create a straight line with known parameters."
      ]
    },
    {
      "cell_type": "code",
      "execution_count": null,
      "metadata": {
        "colab": {
          "base_uri": "https://localhost:8080/"
        },
        "id": "lZEYmI3gottE",
        "outputId": "29197e03-0bb3-475a-a11e-f3fd9abd9a07"
      },
      "outputs": [
        {
          "output_type": "execute_result",
          "data": {
            "text/plain": [
              "(tensor([[0.0000],\n",
              "         [0.0200],\n",
              "         [0.0400],\n",
              "         [0.0600],\n",
              "         [0.0800],\n",
              "         [0.1000],\n",
              "         [0.1200],\n",
              "         [0.1400],\n",
              "         [0.1600],\n",
              "         [0.1800]]),\n",
              " tensor([[0.3000],\n",
              "         [0.3140],\n",
              "         [0.3280],\n",
              "         [0.3420],\n",
              "         [0.3560],\n",
              "         [0.3700],\n",
              "         [0.3840],\n",
              "         [0.3980],\n",
              "         [0.4120],\n",
              "         [0.4260]]))"
            ]
          },
          "metadata": {},
          "execution_count": 230
        }
      ],
      "source": [
        "#create *known parameters\n",
        "\n",
        "weight=0.7\n",
        "bias=0.3\n",
        "\n",
        "# create\n",
        "\n",
        "start=0\n",
        "end=1\n",
        "step=0.02\n",
        "\n",
        "X = torch.arange(start,end,step).unsqueeze(dim=1)\n",
        "\n",
        "y=weight * X+bias\n",
        "\n",
        "X[:10] ,y[:10]"
      ]
    },
    {
      "cell_type": "code",
      "execution_count": null,
      "metadata": {
        "colab": {
          "base_uri": "https://localhost:8080/"
        },
        "id": "5_Dc1jqYrANz",
        "outputId": "7b52b12d-1c78-4c3f-f9a8-dd8279dedd7a"
      },
      "outputs": [
        {
          "output_type": "execute_result",
          "data": {
            "text/plain": [
              "(50, 50)"
            ]
          },
          "metadata": {},
          "execution_count": 231
        }
      ],
      "source": [
        "len(X),len(y)"
      ]
    },
    {
      "cell_type": "markdown",
      "metadata": {
        "id": "T5JlD5CArI7Z"
      },
      "source": [
        "### Splititng data into training and test sets\n",
        "\n",
        "Let's Create a training and test data"
      ]
    },
    {
      "cell_type": "code",
      "execution_count": null,
      "metadata": {
        "colab": {
          "base_uri": "https://localhost:8080/"
        },
        "id": "AtkIRnUpjq-g",
        "outputId": "1a347b48-f163-4a37-8712-862640d2f649"
      },
      "outputs": [
        {
          "output_type": "execute_result",
          "data": {
            "text/plain": [
              "(40, 40, 10, 10)"
            ]
          },
          "metadata": {},
          "execution_count": 232
        }
      ],
      "source": [
        "#create a train test test split\n",
        "\n",
        "train_split=int(0.8*len(X))\n",
        "\n",
        "X_train , y_train =X[:train_split],y[:train_split]\n",
        "\n",
        "X_test,y_test =X[train_split:] ,y[train_split:]\n",
        "\n",
        "len(X_train) ,len(y_train), len(X_test),len(y_test)"
      ]
    },
    {
      "cell_type": "code",
      "execution_count": null,
      "metadata": {
        "colab": {
          "base_uri": "https://localhost:8080/"
        },
        "id": "J1fC1UZBlwqU",
        "outputId": "e431bc93-c421-44f0-c161-b0adb7df0c82"
      },
      "outputs": [
        {
          "output_type": "execute_result",
          "data": {
            "text/plain": [
              "(tensor([[0.0000],\n",
              "         [0.0200],\n",
              "         [0.0400],\n",
              "         [0.0600],\n",
              "         [0.0800],\n",
              "         [0.1000],\n",
              "         [0.1200],\n",
              "         [0.1400],\n",
              "         [0.1600],\n",
              "         [0.1800],\n",
              "         [0.2000],\n",
              "         [0.2200],\n",
              "         [0.2400],\n",
              "         [0.2600],\n",
              "         [0.2800],\n",
              "         [0.3000],\n",
              "         [0.3200],\n",
              "         [0.3400],\n",
              "         [0.3600],\n",
              "         [0.3800],\n",
              "         [0.4000],\n",
              "         [0.4200],\n",
              "         [0.4400],\n",
              "         [0.4600],\n",
              "         [0.4800],\n",
              "         [0.5000],\n",
              "         [0.5200],\n",
              "         [0.5400],\n",
              "         [0.5600],\n",
              "         [0.5800],\n",
              "         [0.6000],\n",
              "         [0.6200],\n",
              "         [0.6400],\n",
              "         [0.6600],\n",
              "         [0.6800],\n",
              "         [0.7000],\n",
              "         [0.7200],\n",
              "         [0.7400],\n",
              "         [0.7600],\n",
              "         [0.7800]]),\n",
              " tensor([[0.3000],\n",
              "         [0.3140],\n",
              "         [0.3280],\n",
              "         [0.3420],\n",
              "         [0.3560],\n",
              "         [0.3700],\n",
              "         [0.3840],\n",
              "         [0.3980],\n",
              "         [0.4120],\n",
              "         [0.4260],\n",
              "         [0.4400],\n",
              "         [0.4540],\n",
              "         [0.4680],\n",
              "         [0.4820],\n",
              "         [0.4960],\n",
              "         [0.5100],\n",
              "         [0.5240],\n",
              "         [0.5380],\n",
              "         [0.5520],\n",
              "         [0.5660],\n",
              "         [0.5800],\n",
              "         [0.5940],\n",
              "         [0.6080],\n",
              "         [0.6220],\n",
              "         [0.6360],\n",
              "         [0.6500],\n",
              "         [0.6640],\n",
              "         [0.6780],\n",
              "         [0.6920],\n",
              "         [0.7060],\n",
              "         [0.7200],\n",
              "         [0.7340],\n",
              "         [0.7480],\n",
              "         [0.7620],\n",
              "         [0.7760],\n",
              "         [0.7900],\n",
              "         [0.8040],\n",
              "         [0.8180],\n",
              "         [0.8320],\n",
              "         [0.8460]]))"
            ]
          },
          "metadata": {},
          "execution_count": 233
        }
      ],
      "source": [
        "X_train,y_train"
      ]
    },
    {
      "cell_type": "markdown",
      "metadata": {
        "id": "_Zp2Eenzmaw4"
      },
      "source": [
        "How might we better visualise our data\n",
        "\n",
        "\"visualize,visualize,visualize\""
      ]
    },
    {
      "cell_type": "code",
      "execution_count": null,
      "metadata": {
        "id": "KVNImQVnmTBx"
      },
      "outputs": [],
      "source": [
        "def plot_prediction(train_data=X_train,\n",
        "                    train_labels=y_train,\n",
        "                    test_data=X_test,\n",
        "                    test_labels=y_test,\n",
        "                    predictions=None):\n",
        "  plt.figure(figsize=(10,7))\n",
        "  #plt training data in blue\n",
        "  plt.scatter(train_data,train_labels,c=\"b\",s=4,label=\"Training data\")\n",
        "\n",
        "  #plot test data in green\n",
        "\n",
        "  plt.scatter(test_data,test_labels,c=\"orange\",s=4,label=\"Testing data\")\n",
        "\n",
        "  # are there any predictions\n",
        "  if predictions is not None:\n",
        "    plt.scatter(test_data,predictions,c=\"r\",s=4,label=\"Predictions\")\n",
        "\n",
        "  #show legends\n",
        "  plt.legend(prop={\"size\":14})"
      ]
    },
    {
      "cell_type": "code",
      "execution_count": null,
      "metadata": {
        "colab": {
          "base_uri": "https://localhost:8080/",
          "height": 599
        },
        "id": "Ofw_cVj6oJqe",
        "outputId": "4824b41d-9b6a-49ad-a4b0-2b696d3757a2"
      },
      "outputs": [
        {
          "output_type": "display_data",
          "data": {
            "text/plain": [
              "<Figure size 1000x700 with 1 Axes>"
            ],
            "image/png": "[encoded data removed]"
          },
          "metadata": {}
        }
      ],
      "source": [
        "plot_prediction()"
      ]
    },
    {
      "cell_type": "markdown",
      "metadata": {
        "id": "4BFzFf_zoQNH"
      },
      "source": [
        "## 2. building first pytorch model\n",
        "\n",
        "\n",
        "we have to build class throughout need  OOPS\n",
        "\n",
        "\n",
        "what the model does\n",
        "* start with random values\n",
        "* look at training data  and adjust the random value to better represent the ideal value\n",
        "\n",
        "how does it do it\n",
        "1. gradient desent\n",
        "2. backpropagation\n"
      ]
    },
    {
      "cell_type": "code",
      "execution_count": null,
      "metadata": {
        "id": "KrAey4yzrLa6"
      },
      "outputs": [],
      "source": [
        "# Create a linear regression\n",
        "from torch import nn\n",
        "\n",
        "class LinearRegression(nn.Module):#<-- Almost evyrthing on pytorch inharit nn module\n",
        " def __init__(self):\n",
        "  super().__init__()\n",
        "\n",
        "  self.weight=nn.Parameter(torch.randn(1,dtype=torch.float),requires_grad=True)\n",
        "\n",
        "\n",
        "  self.bias=nn.Parameter(torch.randn(1,dtype=torch.float),requires_grad=True)\n",
        "\n",
        " def forward(self,x:torch.Tensor)->torch.Tensor:# x is the input data\n",
        "   return self.weight* x + self.bias\n"
      ]
    },
    {
      "cell_type": "code",
      "execution_count": null,
      "metadata": {
        "colab": {
          "base_uri": "https://localhost:8080/"
        },
        "id": "6N40PWdjzKq2",
        "outputId": "4a1feb23-a256-4696-fd96-4cf826e18f08"
      },
      "outputs": [
        {
          "output_type": "execute_result",
          "data": {
            "text/plain": [
              "tensor([0.7906])"
            ]
          },
          "metadata": {},
          "execution_count": 237
        }
      ],
      "source": [
        "torch.manual_seed(41)\n",
        "torch.randn(1)"
      ]
    },
    {
      "cell_type": "markdown",
      "metadata": {
        "id": "kHQrOHfxtO_E"
      },
      "source": [
        "### Pytorch model building essentials\n",
        "* torch.nn -- contains all of the building blocks for computational graphs ( a neural network can be considered a computational graph)\n",
        "* torch.nn.Parameter -- what parametre should our model try and learn , often a pytorch layer from torch.nn will set these for us\n",
        "* torch.nn.Module -- The base class for all neural networks modules , if you subclass it, you should overwrite forward()\n",
        "\n",
        "* torch.optim -- this where the optimizers in pytorch live ,they will help with gradient decent\n",
        "\n",
        "* def forward( ) -- all nn module subclass require you   to override forward(), this method  defines what happens in forward computation\n"
      ]
    },
    {
      "cell_type": "markdown",
      "metadata": {
        "id": "NrXAnm1LuEi2"
      },
      "source": [
        "### Cheaking the content of our pytorch model\n",
        "\n",
        "Now that we have craeted lets cheak whats inside..\n",
        "\n",
        "So we can cheak our models parameter or whats inside our model using `.parameters()`\n"
      ]
    },
    {
      "cell_type": "code",
      "execution_count": null,
      "metadata": {
        "colab": {
          "base_uri": "https://localhost:8080/"
        },
        "id": "pS9VAy1ewaqV",
        "outputId": "42d6f071-dc0f-461b-86d1-825a3b5156a1"
      },
      "outputs": [
        {
          "output_type": "execute_result",
          "data": {
            "text/plain": [
              "[Parameter containing:\n",
              " tensor([0.3367], requires_grad=True),\n",
              " Parameter containing:\n",
              " tensor([0.1288], requires_grad=True)]"
            ]
          },
          "metadata": {},
          "execution_count": 238
        }
      ],
      "source": [
        "# Creat a random seed\n",
        "\n",
        "torch.manual_seed(42)\n",
        "\n",
        "# create an instance of the model (this is a subclass of nn.model)\n",
        "\n",
        "model_0 = LinearRegression()\n",
        "\n",
        "model_0\n",
        "\n",
        "list (model_0.parameters())"
      ]
    },
    {
      "cell_type": "code",
      "execution_count": null,
      "metadata": {
        "colab": {
          "base_uri": "https://localhost:8080/"
        },
        "id": "aRJpVbivywJv",
        "outputId": "d088d1b9-6836-4c34-9d6f-0f1eee339090"
      },
      "outputs": [
        {
          "output_type": "execute_result",
          "data": {
            "text/plain": [
              "OrderedDict([('weight', tensor([0.3367])), ('bias', tensor([0.1288]))])"
            ]
          },
          "metadata": {},
          "execution_count": 239
        }
      ],
      "source": [
        "# List name parameters\n",
        "\n",
        "model_0.state_dict()"
      ]
    },
    {
      "cell_type": "code",
      "execution_count": null,
      "metadata": {
        "colab": {
          "base_uri": "https://localhost:8080/"
        },
        "id": "UyGLBMWQzv0o",
        "outputId": "62178d09-b6a1-4872-a4c2-f23398d4296c"
      },
      "outputs": [
        {
          "output_type": "execute_result",
          "data": {
            "text/plain": [
              "(0.7, 0.3)"
            ]
          },
          "metadata": {},
          "execution_count": 240
        }
      ],
      "source": [
        "weight, bias"
      ]
    },
    {
      "cell_type": "markdown",
      "metadata": {
        "id": "JVi1tgokz65p"
      },
      "source": [
        "### Making predictions using torch.inferane_mode()\n",
        "\n",
        "To cheak our model prediction power ,lets see how it predict `y_test` based on `X_test`.\n",
        "\n",
        "when we pass data through our model , its going to ru =n in through `forward()` method."
      ]
    },
    {
      "cell_type": "code",
      "execution_count": null,
      "metadata": {
        "colab": {
          "base_uri": "https://localhost:8080/"
        },
        "id": "pwnvJ1m61Kiv",
        "outputId": "5f7fa010-ab72-4b27-e34c-344c3a389f96"
      },
      "outputs": [
        {
          "output_type": "execute_result",
          "data": {
            "text/plain": [
              "(tensor([[0.8000],\n",
              "         [0.8200],\n",
              "         [0.8400],\n",
              "         [0.8600],\n",
              "         [0.8800],\n",
              "         [0.9000],\n",
              "         [0.9200],\n",
              "         [0.9400],\n",
              "         [0.9600],\n",
              "         [0.9800]]),\n",
              " tensor([[0.8600],\n",
              "         [0.8740],\n",
              "         [0.8880],\n",
              "         [0.9020],\n",
              "         [0.9160],\n",
              "         [0.9300],\n",
              "         [0.9440],\n",
              "         [0.9580],\n",
              "         [0.9720],\n",
              "         [0.9860]]))"
            ]
          },
          "metadata": {},
          "execution_count": 241
        }
      ],
      "source": [
        "X_test,y_test"
      ]
    },
    {
      "cell_type": "code",
      "execution_count": null,
      "metadata": {
        "colab": {
          "base_uri": "https://localhost:8080/"
        },
        "id": "UAkSw5v621QF",
        "outputId": "35df1190-4aef-4ef7-e7c2-1105382790d5"
      },
      "outputs": [
        {
          "output_type": "execute_result",
          "data": {
            "text/plain": [
              "tensor([[0.3982],\n",
              "        [0.4049],\n",
              "        [0.4116],\n",
              "        [0.4184],\n",
              "        [0.4251],\n",
              "        [0.4318],\n",
              "        [0.4386],\n",
              "        [0.4453],\n",
              "        [0.4520],\n",
              "        [0.4588]], grad_fn=<AddBackward0>)"
            ]
          },
          "metadata": {},
          "execution_count": 242
        }
      ],
      "source": [
        "Y_preds=model_0(X_test)\n",
        "Y_preds"
      ]
    },
    {
      "cell_type": "code",
      "execution_count": null,
      "metadata": {
        "colab": {
          "base_uri": "https://localhost:8080/"
        },
        "id": "cn9CSyg40qRw",
        "outputId": "c9114e23-7dd6-48cf-ab41-a57fcb96d168"
      },
      "outputs": [
        {
          "output_type": "execute_result",
          "data": {
            "text/plain": [
              "tensor([[0.3982],\n",
              "        [0.4049],\n",
              "        [0.4116],\n",
              "        [0.4184],\n",
              "        [0.4251],\n",
              "        [0.4318],\n",
              "        [0.4386],\n",
              "        [0.4453],\n",
              "        [0.4520],\n",
              "        [0.4588]])"
            ]
          },
          "metadata": {},
          "execution_count": 243
        }
      ],
      "source": [
        "# make Prediction with model\n",
        "\n",
        "with torch.inference_mode():\n",
        "  y_preds=model_0(X_test)\n",
        "\n",
        "y_preds"
      ]
    },
    {
      "cell_type": "code",
      "execution_count": null,
      "metadata": {
        "colab": {
          "base_uri": "https://localhost:8080/"
        },
        "id": "ehPKY-141HUu",
        "outputId": "6fbee22d-e2fc-4b32-c60d-872255840b94"
      },
      "outputs": [
        {
          "output_type": "execute_result",
          "data": {
            "text/plain": [
              "tensor([[0.8600],\n",
              "        [0.8740],\n",
              "        [0.8880],\n",
              "        [0.9020],\n",
              "        [0.9160],\n",
              "        [0.9300],\n",
              "        [0.9440],\n",
              "        [0.9580],\n",
              "        [0.9720],\n",
              "        [0.9860]])"
            ]
          },
          "metadata": {},
          "execution_count": 244
        }
      ],
      "source": [
        "y_test"
      ]
    },
    {
      "cell_type": "code",
      "execution_count": null,
      "metadata": {
        "colab": {
          "base_uri": "https://localhost:8080/",
          "height": 599
        },
        "id": "9WCEtNWj2YO1",
        "outputId": "753f1280-00b4-4aa6-a114-3f074949dd26"
      },
      "outputs": [
        {
          "output_type": "display_data",
          "data": {
            "text/plain": [
              "<Figure size 1000x700 with 1 Axes>"
            ],
            "image/png": "[encoded data removed]"
          },
          "metadata": {}
        }
      ],
      "source": [
        "plot_prediction(predictions=y_preds)"
      ]
    },
    {
      "cell_type": "markdown",
      "metadata": {
        "id": "frPpT1eM2kHk"
      },
      "source": [
        "##3. Train model\n",
        "\n",
        "the whole idea of training for a model to movre from some unknown parameters to some known parameter\n",
        "\n",
        "from a poor to better representation of data\n",
        "\n",
        "One way to measure the quality is to  use loss function\n",
        "\n",
        "* Note : loss function may also be called cost function or criterion in diffrent area . for our case , we going to refer to it as loss function\n",
        "\n",
        "Thing we need to train:\n",
        "\n",
        "* **Loss Function :** A loss function is used to measure how wrong the model predictions are to test. the lower the better\n",
        "* **Optimizer :** Takes into ccount the loss of a model and adjusts the models parameter to improve the loss function\n",
        "\n",
        "and specifically ,for pytoch we need:\n",
        "\n",
        "* training loop\n",
        "* testing loop"
      ]
    },
    {
      "cell_type": "code",
      "execution_count": null,
      "metadata": {
        "colab": {
          "base_uri": "https://localhost:8080/"
        },
        "id": "BRH5gDyX7Bup",
        "outputId": "897ee100-d502-41e6-d79d-6804659e8244"
      },
      "outputs": [
        {
          "output_type": "execute_result",
          "data": {
            "text/plain": [
              "[Parameter containing:\n",
              " tensor([0.3367], requires_grad=True),\n",
              " Parameter containing:\n",
              " tensor([0.1288], requires_grad=True)]"
            ]
          },
          "metadata": {},
          "execution_count": 246
        }
      ],
      "source": [
        "list(model_0.parameters())"
      ]
    },
    {
      "cell_type": "code",
      "execution_count": null,
      "metadata": {
        "colab": {
          "base_uri": "https://localhost:8080/"
        },
        "id": "TSh1ZKr9EMJD",
        "outputId": "d10b0608-417c-455b-9928-63f15886e13e"
      },
      "outputs": [
        {
          "output_type": "execute_result",
          "data": {
            "text/plain": [
              "OrderedDict([('weight', tensor([0.3367])), ('bias', tensor([0.1288]))])"
            ]
          },
          "metadata": {},
          "execution_count": 247
        }
      ],
      "source": [
        "# cheak out models parameters\n",
        "model_0.state_dict()"
      ]
    },
    {
      "cell_type": "code",
      "execution_count": null,
      "metadata": {
        "id": "KFc8ADdJEQ3G"
      },
      "outputs": [],
      "source": [
        "#setup a loss function\n",
        "\n",
        "loss_fn =nn.L1Loss()\n",
        "\n",
        "# setup an  optimizer (SGD gradient decent)\n",
        "\n",
        "optimizer = torch.optim.SGD(params=model_0.parameters(),# params are the parametres you wnat to optimize\n",
        "                            lr=0.01)# lr learning rate = most importnt hyper parameter you can set /// higer the lr higher the change\n"
      ]
    },
    {
      "cell_type": "markdown",
      "metadata": {
        "id": "KP_AcHz6toft"
      },
      "source": [
        "### Building a training loop(and a testig loop) in pytorch\n",
        "\n",
        "A couple of things we need in a training loop :\n",
        "0. Loop through the data\n",
        "1. forward pass ( this envolve data moving through `forward()` function and to make predictions in data )\n",
        "2. calculate the loss (compare forward pas predictions to ground truth table)\n",
        "3. optimizer zero grad\n",
        "4. loss backwards - move backwards through the network to calculate the graient of each of the parametrs of model with respect to the loss (**backpropogation**)\n",
        "5. optimizer step - to try and improve the loss(**gradient decent**)"
      ]
    },
    {
      "cell_type": "code",
      "execution_count": null,
      "metadata": {
        "colab": {
          "base_uri": "https://localhost:8080/"
        },
        "id": "a-tbB8M6-w3U",
        "outputId": "f14caf09-207d-4c50-c977-12150f65c05e"
      },
      "outputs": [
        {
          "output_type": "execute_result",
          "data": {
            "text/plain": [
              "(tensor([[0.8000],\n",
              "         [0.8200],\n",
              "         [0.8400],\n",
              "         [0.8600],\n",
              "         [0.8800],\n",
              "         [0.9000],\n",
              "         [0.9200],\n",
              "         [0.9400],\n",
              "         [0.9600],\n",
              "         [0.9800]]),\n",
              " tensor([[0.8600],\n",
              "         [0.8740],\n",
              "         [0.8880],\n",
              "         [0.9020],\n",
              "         [0.9160],\n",
              "         [0.9300],\n",
              "         [0.9440],\n",
              "         [0.9580],\n",
              "         [0.9720],\n",
              "         [0.9860]]))"
            ]
          },
          "metadata": {},
          "execution_count": 249
        }
      ],
      "source": [
        "X_test,y_test"
      ]
    },
    {
      "cell_type": "code",
      "execution_count": null,
      "metadata": {
        "id": "A78hKuYLwGaJ"
      },
      "outputs": [],
      "source": [
        "torch.manual_seed(42)\n",
        "\n",
        "# an epoch is one loop through the data\n",
        "epochs =200\n",
        "\n",
        "epoch_count =[]\n",
        "loss_values=[]\n",
        "test_loss_values=[]\n",
        "\n",
        "## training\n",
        "# 0 loop through the data\n",
        "\n",
        "for epoch in range(epochs):\n",
        "\n",
        "  # set the model training mode\n",
        "  model_0.train()# train mode pytorch sets all parameters that require gradient to require gradients\n",
        "\n",
        "  # 1. forward pass\n",
        "  y_pred= model_0(X_train)\n",
        "\n",
        "  # 2. calculate the loss\n",
        "  loss = loss_fn (y_pred,y_train)\n",
        "\n",
        "  # print(f\" loss:{loss}\")\n",
        "\n",
        "  # 3. Optimizer zero grad\n",
        "  optimizer.zero_grad()\n",
        "\n",
        "  # 4. perform back propogation on the loss with respect to the parameters\n",
        "  loss.backward()\n",
        "\n",
        "  # 5. step the optimizer\n",
        "  optimizer.step()# by deault how the optimier will accumulate through the loop .. we have to zero them abpover in step 3 in the loop\n",
        "\n",
        "  ### Testing\n",
        "  model_0.eval() # turns off diffrent setting in amodel not needed for evaluation\n",
        "\n",
        "  with torch.inference_mode():# turns off gradient tracking & couple of more thing behinf the scene\n",
        "    # 1. do the forward pass\n",
        "    test_pred=model_0(X_test)\n",
        "\n",
        "    # 2. calculate the test loss\n",
        "    test_loss =loss_fn(test_pred,y_test)\n",
        "  if epoch%10==0:\n",
        "    epoch_count.append(epoch)\n",
        "    loss_values.append(loss)\n",
        "    test_loss_values.append(test_loss)\n",
        "\n",
        "   # print(f\"epoch:{epoch} || loss:{loss} ||  testloss: {test_loss}\")\n",
        "\n",
        "  #print out model state dict\n",
        " # print(model_0.state_dict())\n",
        "\n",
        "with torch.inference_mode():\n",
        "  y_preds_new=model_0(X_test)\n"
      ]
    },
    {
      "cell_type": "code",
      "source": [
        "import numpy as np\n",
        "# convert tensor to numpy values\n",
        "\n",
        "# plot the loss curves\n",
        "\n",
        "plt.plot(epoch_count,np.array(torch.tensor(loss_values).numpy()),label=\"train loss\")\n",
        "plt.plot(epoch_count,np.array(torch.tensor(test_loss_values).numpy()),label=\" test loss\")\n",
        "plt.title(\"training loss and test loss curve\")\n",
        "plt.xlabel(\"epoch\")\n",
        "plt.ylabel(\"loss\")\n",
        "plt.legend()"
      ],
      "metadata": {
        "colab": {
          "base_uri": "https://localhost:8080/",
          "height": 489
        },
        "id": "yLuanuXsKsvM",
        "outputId": "560e1c9f-3f12-4334-8542-e1bbc0aa8f58"
      },
      "execution_count": null,
      "outputs": [
        {
          "output_type": "execute_result",
          "data": {
            "text/plain": [
              "<matplotlib.legend.Legend at 0x799ed57cb820>"
            ]
          },
          "metadata": {},
          "execution_count": 251
        },
        {
          "output_type": "display_data",
          "data": {
            "text/plain": [
              "<Figure size 640x480 with 1 Axes>"
            ],
            "image/png": "[encoded data removed]"
          },
          "metadata": {}
        }
      ]
    },
    {
      "cell_type": "code",
      "execution_count": null,
      "metadata": {
        "id": "QdJgwMVgJ5HD"
      },
      "outputs": [],
      "source": [
        "with torch.inference_mode():\n",
        "  y_preds_new=model_0(X_test)\n"
      ]
    },
    {
      "cell_type": "code",
      "execution_count": null,
      "metadata": {
        "id": "enMp-OjnCOmA",
        "colab": {
          "base_uri": "https://localhost:8080/"
        },
        "outputId": "5fa0a15d-3849-4949-d216-095f5398eeca"
      },
      "outputs": [
        {
          "output_type": "execute_result",
          "data": {
            "text/plain": [
              "OrderedDict([('weight', tensor([0.6990])), ('bias', tensor([0.3093]))])"
            ]
          },
          "metadata": {},
          "execution_count": 253
        }
      ],
      "source": [
        "model_0.state_dict()"
      ]
    },
    {
      "cell_type": "code",
      "execution_count": null,
      "metadata": {
        "id": "Oo7tYKDfLtlY",
        "colab": {
          "base_uri": "https://localhost:8080/"
        },
        "outputId": "078fc452-1abe-45da-bd0d-e629ddd31f88"
      },
      "outputs": [
        {
          "output_type": "execute_result",
          "data": {
            "text/plain": [
              "(0.7, 0.3)"
            ]
          },
          "metadata": {},
          "execution_count": 254
        }
      ],
      "source": [
        "weight,bias"
      ]
    },
    {
      "cell_type": "code",
      "execution_count": null,
      "metadata": {
        "id": "AULvRzooMKvH",
        "colab": {
          "base_uri": "https://localhost:8080/",
          "height": 599
        },
        "outputId": "8a5f1d6d-604f-4ad2-8d23-06855d21e938"
      },
      "outputs": [
        {
          "output_type": "display_data",
          "data": {
            "text/plain": [
              "<Figure size 1000x700 with 1 Axes>"
            ],
            "image/png": "[encoded data removed]"
          },
          "metadata": {}
        }
      ],
      "source": [
        "plot_prediction(predictions=y_preds)"
      ]
    },
    {
      "cell_type": "code",
      "execution_count": null,
      "metadata": {
        "id": "Kh0eU6DOMRFq",
        "colab": {
          "base_uri": "https://localhost:8080/",
          "height": 599
        },
        "outputId": "99eb57e0-d3ba-427b-8f52-a1004c3cceae"
      },
      "outputs": [
        {
          "output_type": "display_data",
          "data": {
            "text/plain": [
              "<Figure size 1000x700 with 1 Axes>"
            ],
            "image/png": "[encoded data removed]"
          },
          "metadata": {}
        }
      ],
      "source": [
        "plot_prediction(predictions=y_preds_new)"
      ]
    },
    {
      "cell_type": "code",
      "execution_count": null,
      "metadata": {
        "id": "QgeYZktuMT3K",
        "colab": {
          "base_uri": "https://localhost:8080/"
        },
        "outputId": "ee0e6c78-c633-42f4-fff6-580bda2ac964"
      },
      "outputs": [
        {
          "output_type": "execute_result",
          "data": {
            "text/plain": [
              "(OrderedDict([('weight', tensor([0.6990])), ('bias', tensor([0.3093]))]),\n",
              " 0.7,\n",
              " 0.3)"
            ]
          },
          "metadata": {},
          "execution_count": 257
        }
      ],
      "source": [
        "model_0.state_dict(),weight ,bias"
      ]
    },
    {
      "cell_type": "markdown",
      "source": [
        "## Saving model in pytorch\n",
        "\n",
        "ther are 3 main method you should know about for saving and loading your models\n",
        "\n",
        "1. `torch.save()` --  allow you to save a pytorch object in pythons pickle format\n",
        "2. `torch.load()`-- allow you load a saved pytorch object\n",
        "3. `torch.nn.module.load_state_dict()` -- this allows to load models saved state dictionary"
      ],
      "metadata": {
        "id": "8a4DEQvvJmSr"
      }
    },
    {
      "cell_type": "code",
      "source": [
        "model_0.state_dict()"
      ],
      "metadata": {
        "colab": {
          "base_uri": "https://localhost:8080/"
        },
        "id": "191E7KUNPNQH",
        "outputId": "0335cf6a-4a00-4824-f3bd-ef00fe6ad222"
      },
      "execution_count": null,
      "outputs": [
        {
          "output_type": "execute_result",
          "data": {
            "text/plain": [
              "OrderedDict([('weight', tensor([0.6990])), ('bias', tensor([0.3093]))])"
            ]
          },
          "metadata": {},
          "execution_count": 258
        }
      ]
    },
    {
      "cell_type": "code",
      "source": [
        "# Saving our pytorch model\n",
        "from pathlib import Path\n",
        "\n",
        "# 1. create model directory\n",
        "\n",
        "MODEL_PATH= Path(\"models\")\n",
        "MODEL_PATH.mkdir(parents=True,exist_ok=True)\n",
        "\n",
        "#2. create amodel save path\n",
        "\n",
        "MODEL_NAME= \"My_First_Model.pth\"\n",
        "MODEL_SAVE_PATH = MODEL_PATH/MODEL_NAME\n",
        "\n",
        "# 3. save model state dict\n",
        "torch.save(obj=model_0.state_dict(),f=MODEL_SAVE_PATH)\n",
        "\n",
        "MODEL_SAVE_PATH\n"
      ],
      "metadata": {
        "colab": {
          "base_uri": "https://localhost:8080/"
        },
        "id": "bZByu6gqPPth",
        "outputId": "12cd03f3-f077-4c17-f44e-8dffa5641402"
      },
      "execution_count": null,
      "outputs": [
        {
          "output_type": "execute_result",
          "data": {
            "text/plain": [
              "PosixPath('models/My_First_Model.pth')"
            ]
          },
          "metadata": {},
          "execution_count": 259
        }
      ]
    },
    {
      "cell_type": "code",
      "source": [
        "!ls -l models"
      ],
      "metadata": {
        "colab": {
          "base_uri": "https://localhost:8080/"
        },
        "id": "RXVY6l9cQvOR",
        "outputId": "a83c19c4-da74-4820-f071-e4f528f7a3a6"
      },
      "execution_count": null,
      "outputs": [
        {
          "output_type": "stream",
          "name": "stdout",
          "text": [
            "total 4\n",
            "-rw-r--r-- 1 root root 1538 Oct  5 17:19 My_First_Model.pth\n"
          ]
        }
      ]
    },
    {
      "cell_type": "markdown",
      "source": [
        "## Loading a model\n",
        "\n",
        "Since we Saved ourr model `state_dict()` rather then entire model we will create a new instance of model and load saved `tate_dict()`into that"
      ],
      "metadata": {
        "id": "hNis0Y1-R1We"
      }
    },
    {
      "cell_type": "code",
      "source": [
        "# to load in a saved state dict we have to instance a new instance of our model\n",
        "loaded_model_0=LinearRegression()\n",
        "\n",
        "# load the saved state_dict of model_0\n",
        "loaded_model_0.load_state_dict(torch.load(f=MODEL_SAVE_PATH))\n"
      ],
      "metadata": {
        "colab": {
          "base_uri": "https://localhost:8080/"
        },
        "id": "OrTWeBJKc4Pj",
        "outputId": "460a7f76-4e2c-4474-b1fd-0a15a2cf1035"
      },
      "execution_count": null,
      "outputs": [
        {
          "output_type": "stream",
          "name": "stderr",
          "text": [
            "<ipython-input-261-571de175e73d>:5: FutureWarning: You are using `torch.load` with `weights_only=False` (the current default value), which uses the default pickle module implicitly. It is possible to construct malicious pickle data which will execute arbitrary code during unpickling (See https://github.com/pytorch/pytorch/blob/main/SECURITY.md#untrusted-models for more details). In a future release, the default value for `weights_only` will be flipped to `True`. This limits the functions that could be executed during unpickling. Arbitrary objects will no longer be allowed to be loaded via this mode unless they are explicitly allowlisted by the user via `torch.serialization.add_safe_globals`. We recommend you start setting `weights_only=True` for any use case where you don't have full control of the loaded file. Please open an issue on GitHub for any issues related to this experimental feature.\n",
            "  loaded_model_0.load_state_dict(torch.load(f=MODEL_SAVE_PATH))\n"
          ]
        },
        {
          "output_type": "execute_result",
          "data": {
            "text/plain": [
              "<All keys matched successfully>"
            ]
          },
          "metadata": {},
          "execution_count": 261
        }
      ]
    },
    {
      "cell_type": "code",
      "source": [
        "loaded_model_0.state_dict()"
      ],
      "metadata": {
        "colab": {
          "base_uri": "https://localhost:8080/"
        },
        "id": "ciGqdE7KengU",
        "outputId": "8d0115e6-57db-4785-862c-d7e552b115ff"
      },
      "execution_count": null,
      "outputs": [
        {
          "output_type": "execute_result",
          "data": {
            "text/plain": [
              "OrderedDict([('weight', tensor([0.6990])), ('bias', tensor([0.3093]))])"
            ]
          },
          "metadata": {},
          "execution_count": 262
        }
      ]
    },
    {
      "cell_type": "code",
      "source": [
        "# preds for loaded model\n",
        "loaded_model_0.eval()\n",
        "\n",
        "with torch.inference_mode():\n",
        "  loaded_model_preds=loaded_model_0(X_test)\n",
        "\n",
        "loaded_model_preds"
      ],
      "metadata": {
        "colab": {
          "base_uri": "https://localhost:8080/"
        },
        "id": "TKTOG_YKeyBD",
        "outputId": "b8ce4c85-4986-49d5-95f5-7b308b809bae"
      },
      "execution_count": null,
      "outputs": [
        {
          "output_type": "execute_result",
          "data": {
            "text/plain": [
              "tensor([[0.8685],\n",
              "        [0.8825],\n",
              "        [0.8965],\n",
              "        [0.9105],\n",
              "        [0.9245],\n",
              "        [0.9384],\n",
              "        [0.9524],\n",
              "        [0.9664],\n",
              "        [0.9804],\n",
              "        [0.9944]])"
            ]
          },
          "metadata": {},
          "execution_count": 263
        }
      ]
    },
    {
      "cell_type": "code",
      "source": [
        "model_0.eval()\n",
        "\n",
        "with torch.inference_mode():\n",
        "  y_pred=model_0(X_test)\n",
        "\n",
        "y_pred"
      ],
      "metadata": {
        "colab": {
          "base_uri": "https://localhost:8080/"
        },
        "id": "Mgre67yZfLdR",
        "outputId": "7d366587-020f-4bd7-bd4d-8778a936157b"
      },
      "execution_count": null,
      "outputs": [
        {
          "output_type": "execute_result",
          "data": {
            "text/plain": [
              "tensor([[0.8685],\n",
              "        [0.8825],\n",
              "        [0.8965],\n",
              "        [0.9105],\n",
              "        [0.9245],\n",
              "        [0.9384],\n",
              "        [0.9524],\n",
              "        [0.9664],\n",
              "        [0.9804],\n",
              "        [0.9944]])"
            ]
          },
          "metadata": {},
          "execution_count": 264
        }
      ]
    },
    {
      "cell_type": "code",
      "source": [
        "y_pred==loaded_model_preds"
      ],
      "metadata": {
        "colab": {
          "base_uri": "https://localhost:8080/"
        },
        "id": "xJRLUhJafj2t",
        "outputId": "afdde4d6-8bb3-42fe-dc64-b9586d1040bb"
      },
      "execution_count": null,
      "outputs": [
        {
          "output_type": "execute_result",
          "data": {
            "text/plain": [
              "tensor([[True],\n",
              "        [True],\n",
              "        [True],\n",
              "        [True],\n",
              "        [True],\n",
              "        [True],\n",
              "        [True],\n",
              "        [True],\n",
              "        [True],\n",
              "        [True]])"
            ]
          },
          "metadata": {},
          "execution_count": 265
        }
      ]
    },
    {
      "cell_type": "markdown",
      "source": [
        "### putting it alltogether\n",
        "\n",
        "Lets go back through the steps above and see it all in one place"
      ],
      "metadata": {
        "id": "ABnGUQg7gzCc"
      }
    },
    {
      "cell_type": "code",
      "source": [
        "import torch\n",
        "from torch import nn\n",
        "import matplotlib.pyplot as plt"
      ],
      "metadata": {
        "id": "abTFpuMKicbq"
      },
      "execution_count": null,
      "outputs": []
    },
    {
      "cell_type": "markdown",
      "source": [
        "Create a Device Agnostic code\n",
        "\n",
        "\n",
        "if available use gpu else cpu"
      ],
      "metadata": {
        "id": "JqFRPV7pjQGB"
      }
    },
    {
      "cell_type": "code",
      "source": [
        "device=\"cuda\" if torch.cuda.is_available() else \"cpu\"\n",
        "\n",
        "device"
      ],
      "metadata": {
        "colab": {
          "base_uri": "https://localhost:8080/",
          "height": 35
        },
        "id": "g-DW8Ay_jVV5",
        "outputId": "979a1182-0c71-469d-ad1e-8bfed5bd391d"
      },
      "execution_count": null,
      "outputs": [
        {
          "output_type": "execute_result",
          "data": {
            "text/plain": [
              "'cuda'"
            ],
            "application/vnd.google.colaboratory.intrinsic+json": {
              "type": "string"
            }
          },
          "metadata": {},
          "execution_count": 267
        }
      ]
    },
    {
      "cell_type": "markdown",
      "source": [
        "#### 6.1 DATA"
      ],
      "metadata": {
        "id": "9JMVYNlDiY3w"
      }
    },
    {
      "cell_type": "code",
      "source": [
        "# liner reggression formula Y=weight *x +bias\n",
        "\n",
        "weight=0.578\n",
        "bias=0.23\n",
        "\n",
        "start=0\n",
        "end=1\n",
        "step=0.015\n",
        "\n",
        "X=torch.arange(start,end,step).unsqueeze(dim=1)\n",
        "\n",
        "y=weight*X+bias\n",
        "\n",
        "X[:10],y[:10]"
      ],
      "metadata": {
        "colab": {
          "base_uri": "https://localhost:8080/"
        },
        "id": "Fb7UP6AgibiQ",
        "outputId": "f540ea42-f1ff-40f3-b78c-4318ff4911d6"
      },
      "execution_count": null,
      "outputs": [
        {
          "output_type": "execute_result",
          "data": {
            "text/plain": [
              "(tensor([[0.0000],\n",
              "         [0.0150],\n",
              "         [0.0300],\n",
              "         [0.0450],\n",
              "         [0.0600],\n",
              "         [0.0750],\n",
              "         [0.0900],\n",
              "         [0.1050],\n",
              "         [0.1200],\n",
              "         [0.1350]]),\n",
              " tensor([[0.2300],\n",
              "         [0.2387],\n",
              "         [0.2473],\n",
              "         [0.2560],\n",
              "         [0.2647],\n",
              "         [0.2734],\n",
              "         [0.2820],\n",
              "         [0.2907],\n",
              "         [0.2994],\n",
              "         [0.3080]]))"
            ]
          },
          "metadata": {},
          "execution_count": 268
        }
      ]
    },
    {
      "cell_type": "code",
      "source": [
        "# split data\n",
        "train_split=int(0.8*len(X))\n",
        "\n",
        "X_train,y_train=X[:train_split],y[:train_split]\n",
        "X_test,y_test=X[train_split:],y[train_split:]\n",
        "\n",
        "len(X_train),len(y_train),len(X_test),len(y_test)"
      ],
      "metadata": {
        "colab": {
          "base_uri": "https://localhost:8080/"
        },
        "id": "q9mfRrwSkf4S",
        "outputId": "befd2af8-a94d-441d-ed7c-01d4ed4acc06"
      },
      "execution_count": null,
      "outputs": [
        {
          "output_type": "execute_result",
          "data": {
            "text/plain": [
              "(53, 53, 14, 14)"
            ]
          },
          "metadata": {},
          "execution_count": 269
        }
      ]
    },
    {
      "cell_type": "code",
      "source": [
        "#plot the data\n",
        "\n",
        "plot_prediction(train_data= X_train,train_labels= y_train,test_data= X_test,test_labels= y_test)"
      ],
      "metadata": {
        "colab": {
          "base_uri": "https://localhost:8080/",
          "height": 599
        },
        "id": "uC5WPWwvk0Zy",
        "outputId": "6087183d-09cb-4dc5-d00b-9b2ee5dedfe9"
      },
      "execution_count": null,
      "outputs": [
        {
          "output_type": "display_data",
          "data": {
            "text/plain": [
              "<Figure size 1000x700 with 1 Axes>"
            ],
            "image/png": "[encoded data removed]"
          },
          "metadata": {}
        }
      ]
    },
    {
      "cell_type": "markdown",
      "source": [
        "#### 6.2 lets create a model"
      ],
      "metadata": {
        "id": "HamQZ8QqrNqk"
      }
    },
    {
      "cell_type": "code",
      "source": [
        "class LinerRegressionModelV2(nn.Module):\n",
        "  def __init__(self):\n",
        "    super().__init__()\n",
        "    #use nn.Linear() for creating model parameter / also called :linear transform\n",
        "    self.linear_layer=nn.Linear(in_features=1,\n",
        "                                out_features=1)\n",
        "\n",
        "  def forward(self,x:torch.Tensor)->torch.Tensor:\n",
        "    return self.linear_layer(x)\n",
        "\n",
        "torch.manual_seed(4)\n",
        "\n",
        "model_1=LinerRegressionModelV2()"
      ],
      "metadata": {
        "id": "KG9eY-ymnjGI"
      },
      "execution_count": null,
      "outputs": []
    },
    {
      "cell_type": "code",
      "source": [
        "model_1.state_dict()"
      ],
      "metadata": {
        "colab": {
          "base_uri": "https://localhost:8080/"
        },
        "id": "RHbxbABYpV90",
        "outputId": "0c0f9ffd-9c3a-451d-9043-35f51e447675"
      },
      "execution_count": null,
      "outputs": [
        {
          "output_type": "execute_result",
          "data": {
            "text/plain": [
              "OrderedDict([('linear_layer.weight', tensor([[0.1193]])),\n",
              "             ('linear_layer.bias', tensor([0.1182]))])"
            ]
          },
          "metadata": {},
          "execution_count": 272
        }
      ]
    },
    {
      "cell_type": "code",
      "source": [
        "with torch.inference_mode():\n",
        " y_predictions=model_1(X_test)"
      ],
      "metadata": {
        "id": "slxNyIkhpyNE"
      },
      "execution_count": null,
      "outputs": []
    },
    {
      "cell_type": "code",
      "source": [
        "y_predictions"
      ],
      "metadata": {
        "colab": {
          "base_uri": "https://localhost:8080/"
        },
        "id": "eIBMB1VXqXYd",
        "outputId": "22439956-4bf4-4c5b-e3f8-f435eb071ab3"
      },
      "execution_count": null,
      "outputs": [
        {
          "output_type": "execute_result",
          "data": {
            "text/plain": [
              "tensor([[0.2130],\n",
              "        [0.2148],\n",
              "        [0.2166],\n",
              "        [0.2184],\n",
              "        [0.2202],\n",
              "        [0.2220],\n",
              "        [0.2237],\n",
              "        [0.2255],\n",
              "        [0.2273],\n",
              "        [0.2291],\n",
              "        [0.2309],\n",
              "        [0.2327],\n",
              "        [0.2345],\n",
              "        [0.2363]])"
            ]
          },
          "metadata": {},
          "execution_count": 274
        }
      ]
    },
    {
      "cell_type": "code",
      "source": [
        "#plot the data\n",
        "\n",
        "plot_prediction(train_data= X_train,train_labels= y_train,test_data= X_test,test_labels= y_test,predictions=y_predictions)"
      ],
      "metadata": {
        "colab": {
          "base_uri": "https://localhost:8080/",
          "height": 599
        },
        "id": "6oklv0PrqZHL",
        "outputId": "9a22f682-fe8a-47b4-fb18-d20e0b1880c3"
      },
      "execution_count": null,
      "outputs": [
        {
          "output_type": "display_data",
          "data": {
            "text/plain": [
              "<Figure size 1000x700 with 1 Axes>"
            ],
            "image/png": "[encoded data removed]"
          },
          "metadata": {}
        }
      ]
    },
    {
      "cell_type": "code",
      "source": [
        "# set model to use the target device\n",
        "model_1.to(device)\n",
        "next(model_1.parameters()).device"
      ],
      "metadata": {
        "colab": {
          "base_uri": "https://localhost:8080/"
        },
        "id": "9TSFrEF7qggE",
        "outputId": "f1d7331f-e828-429f-d8bc-783d83cb9965"
      },
      "execution_count": null,
      "outputs": [
        {
          "output_type": "execute_result",
          "data": {
            "text/plain": [
              "device(type='cuda', index=0)"
            ]
          },
          "metadata": {},
          "execution_count": 276
        }
      ]
    },
    {
      "cell_type": "markdown",
      "source": [
        "#### 6.3 Training\n",
        "\n",
        " we need\n",
        "* loss function\n",
        "* optimizer\n",
        "* training loop\n",
        "* testing loop"
      ],
      "metadata": {
        "id": "9lpSqtm2qygq"
      }
    },
    {
      "cell_type": "code",
      "source": [
        "# setup loss function\n",
        "loss_fn=nn.L1Loss()\n",
        "\n",
        "optimizer=torch.optim.SGD(params=model_1.parameters(),lr=0.001)"
      ],
      "metadata": {
        "id": "dvnDEwKTrBrL"
      },
      "execution_count": null,
      "outputs": []
    },
    {
      "cell_type": "code",
      "source": [
        "torch.manual_seed(4)\n",
        "\n",
        "epochs=2500\n",
        "# put data on target device\n",
        "\n",
        "X_train=X_train.to(device)\n",
        "y_train=y_train.to(device)\n",
        "X_test=X_test.to(device)\n",
        "y_test=y_test.to(device)\n",
        "\n",
        "for epoch in range( epochs):\n",
        "  model_1.train()\n",
        "\n",
        "  y_pred=model_1(X_train)\n",
        "\n",
        "  loss=loss_fn(y_pred,y_train)\n",
        "\n",
        "  optimizer.zero_grad()\n",
        "\n",
        "  loss.backward()\n",
        "\n",
        "  optimizer.step()\n",
        "\n",
        "  model_1.eval()\n",
        "\n",
        "  with torch.inference_mode():\n",
        "    test_pred=model_1(X_test)\n",
        "    test_loss=loss_fn(test_pred,y_test)\n",
        "  #if epoch%10==0:\n",
        "    #print(f\"loss : {loss}   :  test loss {test_loss}\")\n"
      ],
      "metadata": {
        "id": "m9tZ3unyrzNn"
      },
      "execution_count": null,
      "outputs": []
    },
    {
      "cell_type": "code",
      "source": [
        "with torch.inference_mode():\n",
        " y_predictions=model_1(X_test)\n",
        "\n",
        "#plot the data\n",
        "\n",
        "plot_prediction(train_data= X_train.to(\"cpu\"),train_labels= y_train.to(\"cpu\"),test_data= X_test.to(\"cpu\"),test_labels= y_test.to(\"cpu\"),predictions=y_predictions.to(\"cpu\"))"
      ],
      "metadata": {
        "colab": {
          "base_uri": "https://localhost:8080/",
          "height": 599
        },
        "id": "lAvVl9AFtjQI",
        "outputId": "9ffcea7c-1ed3-41fa-e361-5bd3412ef065"
      },
      "execution_count": null,
      "outputs": [
        {
          "output_type": "display_data",
          "data": {
            "text/plain": [
              "<Figure size 1000x700 with 1 Axes>"
            ],
            "image/png": "[encoded data removed]"
          },
          "metadata": {}
        }
      ]
    },
    {
      "cell_type": "markdown",
      "source": [
        "#### 6.5 saving and loading a pytorch model"
      ],
      "metadata": {
        "id": "FYVAW3DfjHm7"
      }
    },
    {
      "cell_type": "code",
      "source": [
        "model_1.state_dict()"
      ],
      "metadata": {
        "colab": {
          "base_uri": "https://localhost:8080/"
        },
        "id": "XkjY5CsVpg8V",
        "outputId": "87ac480d-1a4f-40ce-b189-51ad4848da22"
      },
      "execution_count": null,
      "outputs": [
        {
          "output_type": "execute_result",
          "data": {
            "text/plain": [
              "OrderedDict([('linear_layer.weight', tensor([[0.5778]], device='cuda:0')),\n",
              "             ('linear_layer.bias', tensor([0.2308], device='cuda:0'))])"
            ]
          },
          "metadata": {},
          "execution_count": 280
        }
      ]
    },
    {
      "cell_type": "code",
      "source": [
        "from pathlib import Path\n",
        "\n",
        "model_path=Path(\"model_1\")\n",
        "model_path.mkdir(parents=True,exist_ok=True)\n",
        "\n",
        "model_name=\"trained_second_model.pth\"\n",
        "\n",
        "model_save_path=model_path/model_name\n",
        "\n",
        "torch.save(obj=model_1.state_dict(),f=model_save_path)\n",
        "\n",
        "model_save_path\n",
        "\n",
        "model_1.state_dict()"
      ],
      "metadata": {
        "colab": {
          "base_uri": "https://localhost:8080/"
        },
        "id": "mkGc8tePjOd3",
        "outputId": "03cfe481-916b-48c6-eed0-5451cdccfc74"
      },
      "execution_count": null,
      "outputs": [
        {
          "output_type": "execute_result",
          "data": {
            "text/plain": [
              "OrderedDict([('linear_layer.weight', tensor([[0.5778]], device='cuda:0')),\n",
              "             ('linear_layer.bias', tensor([0.2308], device='cuda:0'))])"
            ]
          },
          "metadata": {},
          "execution_count": 294
        }
      ]
    },
    {
      "cell_type": "code",
      "source": [
        "loaded_model_2=LinerRegressionModelV2()\n",
        "\n",
        "loaded_model_2.load_state_dict(torch.load(model_save_path))"
      ],
      "metadata": {
        "colab": {
          "base_uri": "https://localhost:8080/"
        },
        "id": "9b2_NUHmkZwP",
        "outputId": "37f2e10e-659f-4544-af69-6a6a7ec41497"
      },
      "execution_count": null,
      "outputs": [
        {
          "output_type": "stream",
          "name": "stderr",
          "text": [
            "<ipython-input-296-c1604eac984b>:3: FutureWarning: You are using `torch.load` with `weights_only=False` (the current default value), which uses the default pickle module implicitly. It is possible to construct malicious pickle data which will execute arbitrary code during unpickling (See https://github.com/pytorch/pytorch/blob/main/SECURITY.md#untrusted-models for more details). In a future release, the default value for `weights_only` will be flipped to `True`. This limits the functions that could be executed during unpickling. Arbitrary objects will no longer be allowed to be loaded via this mode unless they are explicitly allowlisted by the user via `torch.serialization.add_safe_globals`. We recommend you start setting `weights_only=True` for any use case where you don't have full control of the loaded file. Please open an issue on GitHub for any issues related to this experimental feature.\n",
            "  loaded_model_2.load_state_dict(torch.load(model_save_path))\n"
          ]
        },
        {
          "output_type": "execute_result",
          "data": {
            "text/plain": [
              "<All keys matched successfully>"
            ]
          },
          "metadata": {},
          "execution_count": 296
        }
      ]
    },
    {
      "cell_type": "code",
      "source": [
        "loaded_model_2.to(device)"
      ],
      "metadata": {
        "colab": {
          "base_uri": "https://localhost:8080/"
        },
        "id": "W1TKIyqfrfQL",
        "outputId": "067cd6af-8dad-4786-8f29-d0f0e5628754"
      },
      "execution_count": null,
      "outputs": [
        {
          "output_type": "execute_result",
          "data": {
            "text/plain": [
              "LinerRegressionModelV2(\n",
              "  (linear_layer): Linear(in_features=1, out_features=1, bias=True)\n",
              ")"
            ]
          },
          "metadata": {},
          "execution_count": 297
        }
      ]
    },
    {
      "cell_type": "code",
      "source": [
        "loaded_model_2.eval()\n",
        "\n",
        "with torch.inference_mode():\n",
        "  loaded_model_preds=loaded_model_2(X_test.to(device))"
      ],
      "metadata": {
        "id": "qNCuLwSVlNSK"
      },
      "execution_count": null,
      "outputs": []
    },
    {
      "cell_type": "code",
      "source": [
        "model_1.eval()\n",
        "with torch.inference_mode():\n",
        "  model_preds=model_1(X_test)"
      ],
      "metadata": {
        "id": "AdP0ERUZlzPk"
      },
      "execution_count": null,
      "outputs": []
    },
    {
      "cell_type": "code",
      "source": [
        "y_predictions"
      ],
      "metadata": {
        "colab": {
          "base_uri": "https://localhost:8080/"
        },
        "id": "M8csD0Dpm0wA",
        "outputId": "f3ada1f5-089c-4222-84e1-1dd56c004d0d"
      },
      "execution_count": null,
      "outputs": [
        {
          "output_type": "execute_result",
          "data": {
            "text/plain": [
              "tensor([[0.6902],\n",
              "        [0.6988],\n",
              "        [0.7075],\n",
              "        [0.7162],\n",
              "        [0.7248],\n",
              "        [0.7335],\n",
              "        [0.7422],\n",
              "        [0.7509],\n",
              "        [0.7595],\n",
              "        [0.7682],\n",
              "        [0.7769],\n",
              "        [0.7855],\n",
              "        [0.7942],\n",
              "        [0.8029]], device='cuda:0')"
            ]
          },
          "metadata": {},
          "execution_count": 300
        }
      ]
    },
    {
      "cell_type": "code",
      "source": [
        "loaded_model_preds.to(device)"
      ],
      "metadata": {
        "colab": {
          "base_uri": "https://localhost:8080/"
        },
        "id": "0iij-XGnn7jD",
        "outputId": "d95f6c11-26ec-4b30-a660-c05a9cbde33f"
      },
      "execution_count": null,
      "outputs": [
        {
          "output_type": "execute_result",
          "data": {
            "text/plain": [
              "tensor([[0.6902],\n",
              "        [0.6988],\n",
              "        [0.7075],\n",
              "        [0.7162],\n",
              "        [0.7248],\n",
              "        [0.7335],\n",
              "        [0.7422],\n",
              "        [0.7509],\n",
              "        [0.7595],\n",
              "        [0.7682],\n",
              "        [0.7769],\n",
              "        [0.7855],\n",
              "        [0.7942],\n",
              "        [0.8029]], device='cuda:0')"
            ]
          },
          "metadata": {},
          "execution_count": 301
        }
      ]
    },
    {
      "cell_type": "code",
      "source": [
        "loaded_model_2.state_dict()"
      ],
      "metadata": {
        "colab": {
          "base_uri": "https://localhost:8080/"
        },
        "id": "nvfqK6ZEoXCR",
        "outputId": "33b3bad5-67df-4a11-b366-f8b8c7f0e3a3"
      },
      "execution_count": null,
      "outputs": [
        {
          "output_type": "execute_result",
          "data": {
            "text/plain": [
              "OrderedDict([('linear_layer.weight', tensor([[0.5778]], device='cuda:0')),\n",
              "             ('linear_layer.bias', tensor([0.2308], device='cuda:0'))])"
            ]
          },
          "metadata": {},
          "execution_count": 302
        }
      ]
    },
    {
      "cell_type": "code",
      "source": [],
      "metadata": {
        "id": "EFPIbhersbIN"
      },
      "execution_count": null,
      "outputs": []
    }
  ],
  "metadata": {
    "colab": {
      "gpuType": "T4",
      "provenance": [],
      "authorship_tag": "ABX9TyM7FhAUTa48ES3ICld07eIw",
      "include_colab_link": true
    },
    "kernelspec": {
      "display_name": "Python 3",
      "name": "python3"
    },
    "language_info": {
      "name": "python"
    },
    "accelerator": "GPU"
  },
  "nbformat": 4,
  "nbformat_minor": 0
}